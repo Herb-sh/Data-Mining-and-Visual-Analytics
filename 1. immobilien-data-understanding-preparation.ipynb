{
 "cells": [
  {
   "cell_type": "markdown",
   "metadata": {
    "id": "wa-2irVTo_fw"
   },
   "source": [
    "<div>\n",
    "      <img src=\"https://drive.google.com/uc?export=view&id=1XqMCyXys9E6QBvNAW8QSTAdT0dkB8aAa\" width=\"40%\" align=\"right\"/>\n",
    "</div>\n",
    "\n",
    "<div>\n",
    "        <br><h4>Daniel Brauner, Felix Scharf, Herbi Shtini</h4>\n",
    "</div>"
   ]
  },
  {
   "cell_type": "markdown",
   "metadata": {
    "id": "1HcWCfqPpL_j"
   },
   "source": [
    "<h1><center>Thema: Deutsche Mietpreisanalyse</center></h1>"
   ]
  },
  {
   "cell_type": "markdown",
   "metadata": {
    "id": "M5txHmhD4mOm"
   },
   "source": [
    "# 1. Business Understanding"
   ]
  },
  {
   "cell_type": "markdown",
   "metadata": {
    "id": "N9NU0PtqzMqk"
   },
   "source": [
    "**Einleitung**\n",
    "\n",
    "Warum haben wir uns für dieses Thema entschieden?\n",
    "\n",
    "Grundlage dieser Datenanalyse war der Gedanke, ein Thema zu finden, mit dem man sich identifizieren kann. Der meist mühsame Akt der Wohnungssuche hat sich als ein geeignet erwiesen. Die Gründe für einen Umzug können vielfältig sein und doch ist der Prozess nach der Entscheidung umziehen zu wollen meist der gleiche: Man geht auf die Suche nach geeigneten Inseraten.\n",
    "\n",
    "Das kann entweder über Printmedien geschehen, direkte persönliche Kontakte oder übers Internet. Das Internet bietet ein breites Spektrum an Websites und Apps für mobile Endgeräte an, die den Zweck erfüllen, Inserate von Immobilien als Anbieter einzustellen und als Interessent anzusehen um Kontakt zum Anbieter aufzunehmen. \n",
    "Das Portal Immoscout24 ist eines der prominentesten Portale für Anbieter und Interessenten. \n",
    "\n",
    "In dieser Analyse wird die Sicht eines Interessenten betrachtet, der/die gerne zur Miete in eine Wohnung ziehen möchte. Aus persönlicher Erfahrung heraus besteht die Herausforderung bei der Suche darin, dass der Immobilienmarkt nicht vollständig transparent ist. Unklar ist, ob ein Angebot für die örtlichen Gegebenheiten günstig, normalpreisig oder teuer ist. Ebenfalls ist der Indikator, wie viel Miete man im Durchschnitt für ein Zielobjekt zahlen muss meist subjektiv. \n",
    "\n",
    "Diese Datenanalyse soll bei der Bewertung und dem Preisempfinden eine Hilfestellung bieten, die auf realen Daten basiert.\n",
    "\n",
    "Nach der Recherche wurde ein großer Datensatz von Kaggle.com gefunden, der die bundesweiten Mietangebote von Immoscout24 über einen Zeitraum von 2018-2020 mit diversen Features enthält. Dieser Datensatz bildet die Grundlage der folgenden Zielsetzung und des Datananalyseprojekts.\n",
    "\n",
    "Die Quelle ist https://www.kaggle.com/corrieaar/apartment-rental-offers-in-germany \n",
    "\n",
    "Geplant ist, die Zielsetzung durch Einsatz von Regression zu beleuchten, die die Warmmiete unter verschiedenen Apekten prognostiziert. Die Warmmiete wurde als zu prognostizierende Größe gesetzt, da sie später auch tatsächlich gezahlt wird.\n",
    "\n",
    "\n",
    "\n",
    "\n",
    "\n",
    "\n",
    "**Was ist die Zielsetzung?**\n",
    "\n",
    "\n",
    "\n",
    "1.   Es soll eine Schätzung entstehen, wie viel Mietkosten eine Person für eine Wohnung mit bestimmten Merkmalen zahlen muss.  \n",
    "2.   Ist ein bei Immobilienscout 24 gefundenes Angebot günstig, normal, oder teuer?\n",
    "\n",
    " \n",
    "\n",
    "**Business Case**\n",
    "\n",
    "*   Spezifische Budgetplanung bei der Wohnungssuche\n",
    "*   Hilfestellung durch Preisbewertung eines gefundenen Angebots\n",
    "\n",
    "\n",
    "\n",
    "**Weitere Erkenntnisse**\n",
    "\n",
    "* Transparenz in den oftmals intransparenten Immobilienmarkt bringen\n",
    "* Merkmale erkennen, die Wohnungen besonders teuer/preiswert machen\n",
    "\n",
    "**Wie wird der Erfolg gemessen?**\n",
    "\n",
    "* Gute Nutzung des Prognosemodells i.S. von Hilfestellung bei der Wohnungssuche\n",
    "* Validierung der Güte des Modells durch Trainings- Testdaten\n",
    "* Bestimmmung von Faktoren, die einen besonders starken Einfluss auf den Mietpreis haben. \n",
    "\n",
    "\n"
   ]
  },
  {
   "cell_type": "markdown",
   "metadata": {
    "id": "44KOTxfDP2lI"
   },
   "source": [
    "# 2. Data understanding"
   ]
  },
  {
   "cell_type": "markdown",
   "metadata": {
    "id": "xZsTLMuShD84"
   },
   "source": [
    "### Importe"
   ]
  },
  {
   "cell_type": "markdown",
   "metadata": {
    "id": "aH9H9S4lcr2o"
   },
   "source": [
    "Im Rahmen des Datenverständnisses oder Data Understandings wird versucht, sich einen ersten Überblick über die zur Verfügung stehenden Daten und deren Qualität zu verschaffen. Es erfolgt eine Analyse und Bewertung der Datenqualität. Probleme mit der Qualität der vorhandenen Daten werden identifiziert und ein weiteres Vorgehen mit diesen Daten festgelegt.\n",
    "\n",
    "Im ersten Schritt werden die benötigten Bibliotheken installiert.\n",
    "Wir verwenden numpy, pandas, seaborn und matplotlib. \n",
    "\n",
    "NumPy und Pandas sind Programmbibliotheken für die Programmiersprache Python, die die Handhabung großer mehrdimensionaler Arrays ermöglichen. \n",
    "\n",
    "Matplotlib und Seaborn sind ebenfalls Programmbibliotheken für Python, welche  Visualisierungen und Darstellungen ermöglichen."
   ]
  },
  {
   "cell_type": "code",
   "execution_count": 1,
   "metadata": {
    "id": "jtoxsSffy5yg"
   },
   "outputs": [],
   "source": [
    "import numpy as np\n",
    "import pandas as pd\n",
    "\n",
    "import seaborn as sns\n",
    "import matplotlib.pyplot as plt \n",
    "import matplotlib.ticker as tkr"
   ]
  },
  {
   "cell_type": "markdown",
   "metadata": {},
   "source": [
    "### Daten übersicht"
   ]
  },
  {
   "cell_type": "markdown",
   "metadata": {
    "id": "ofNcYDYhczIO"
   },
   "source": [
    "Zunächst wird der Datensatz importiert.\n",
    "\n",
    "Python verfügt nativ über eine CSV-Bibliothek. Über diese Bibliothek können wir unserem im .csv Dateiformat vorliegenden Datensatz direkt einlesen und verarbeiten.\n",
    "\n"
   ]
  },
  {
   "cell_type": "code",
   "execution_count": 2,
   "metadata": {
    "id": "3v6kGrJjEfJs"
   },
   "outputs": [],
   "source": [
    "df = pd.read_csv('data/immo_data.csv')"
   ]
  },
  {
   "cell_type": "code",
   "execution_count": 3,
   "metadata": {
    "colab": {
     "base_uri": "https://localhost:8080/"
    },
    "executionInfo": {
     "elapsed": 431,
     "status": "ok",
     "timestamp": 1645270426763,
     "user": {
      "displayName": "Felix",
      "photoUrl": "https://lh3.googleusercontent.com/a-/AOh14GiAwfxzvmRUyZnVZTTrD3x3jXEdBBIPlNSE668J=s64",
      "userId": "01747871621320100222"
     },
     "user_tz": -60
    },
    "id": "Uuedvl9DkLXA",
    "outputId": "6b635bb8-c1f5-4ce5-db25-3ca3c537ad60"
   },
   "outputs": [
    {
     "name": "stdout",
     "output_type": "stream",
     "text": [
      "Spalten: 268850 , Zeilen : 49\n"
     ]
    }
   ],
   "source": [
    "print(f'Spalten:', df.shape[0], ', Zeilen :',df.shape[1])"
   ]
  },
  {
   "cell_type": "code",
   "execution_count": 4,
   "metadata": {
    "colab": {
     "base_uri": "https://localhost:8080/"
    },
    "executionInfo": {
     "elapsed": 2,
     "status": "ok",
     "timestamp": 1645270426763,
     "user": {
      "displayName": "Felix",
      "photoUrl": "https://lh3.googleusercontent.com/a-/AOh14GiAwfxzvmRUyZnVZTTrD3x3jXEdBBIPlNSE668J=s64",
      "userId": "01747871621320100222"
     },
     "user_tz": -60
    },
    "id": "bWfh4tNUQBIl",
    "outputId": "2a350584-2f12-46da-e8ad-6739ed52e1f9"
   },
   "outputs": [
    {
     "name": "stdout",
     "output_type": "stream",
     "text": [
      "<class 'pandas.core.frame.DataFrame'>\n",
      "RangeIndex: 268850 entries, 0 to 268849\n",
      "Data columns (total 49 columns):\n",
      " #   Column                    Non-Null Count   Dtype  \n",
      "---  ------                    --------------   -----  \n",
      " 0   regio1                    268850 non-null  object \n",
      " 1   serviceCharge             261941 non-null  float64\n",
      " 2   heatingType               223994 non-null  object \n",
      " 3   telekomTvOffer            236231 non-null  object \n",
      " 4   telekomHybridUploadSpeed  45020 non-null   float64\n",
      " 5   newlyConst                268850 non-null  bool   \n",
      " 6   balcony                   268850 non-null  bool   \n",
      " 7   picturecount              268850 non-null  int64  \n",
      " 8   pricetrend                267018 non-null  float64\n",
      " 9   telekomUploadSpeed        235492 non-null  float64\n",
      " 10  totalRent                 228333 non-null  float64\n",
      " 11  yearConstructed           211805 non-null  float64\n",
      " 12  scoutId                   268850 non-null  int64  \n",
      " 13  noParkSpaces              93052 non-null   float64\n",
      " 14  firingTypes               211886 non-null  object \n",
      " 15  hasKitchen                268850 non-null  bool   \n",
      " 16  geo_bln                   268850 non-null  object \n",
      " 17  cellar                    268850 non-null  bool   \n",
      " 18  yearConstructedRange      211805 non-null  float64\n",
      " 19  baseRent                  268850 non-null  float64\n",
      " 20  houseNumber               197832 non-null  object \n",
      " 21  livingSpace               268850 non-null  float64\n",
      " 22  geo_krs                   268850 non-null  object \n",
      " 23  condition                 200361 non-null  object \n",
      " 24  interiorQual              156185 non-null  object \n",
      " 25  petsAllowed               154277 non-null  object \n",
      " 26  street                    268850 non-null  object \n",
      " 27  streetPlain               197837 non-null  object \n",
      " 28  lift                      268850 non-null  bool   \n",
      " 29  baseRentRange             268850 non-null  int64  \n",
      " 30  typeOfFlat                232236 non-null  object \n",
      " 31  geo_plz                   268850 non-null  int64  \n",
      " 32  noRooms                   268850 non-null  float64\n",
      " 33  thermalChar               162344 non-null  float64\n",
      " 34  floor                     217541 non-null  float64\n",
      " 35  numberOfFloors            171118 non-null  float64\n",
      " 36  noRoomsRange              268850 non-null  int64  \n",
      " 37  garden                    268850 non-null  bool   \n",
      " 38  livingSpaceRange          268850 non-null  int64  \n",
      " 39  regio2                    268850 non-null  object \n",
      " 40  regio3                    268850 non-null  object \n",
      " 41  description               249103 non-null  object \n",
      " 42  facilities                215926 non-null  object \n",
      " 43  heatingCosts              85518 non-null   float64\n",
      " 44  energyEfficiencyClass     77787 non-null   object \n",
      " 45  lastRefurbish             80711 non-null   float64\n",
      " 46  electricityBasePrice      46846 non-null   float64\n",
      " 47  electricityKwhPrice       46846 non-null   float64\n",
      " 48  date                      268850 non-null  object \n",
      "dtypes: bool(6), float64(18), int64(6), object(19)\n",
      "memory usage: 89.7+ MB\n"
     ]
    }
   ],
   "source": [
    "df.info()"
   ]
  },
  {
   "cell_type": "code",
   "execution_count": 5,
   "metadata": {
    "colab": {
     "base_uri": "https://localhost:8080/",
     "height": 364
    },
    "executionInfo": {
     "elapsed": 1062,
     "status": "ok",
     "timestamp": 1645270427824,
     "user": {
      "displayName": "Felix",
      "photoUrl": "https://lh3.googleusercontent.com/a-/AOh14GiAwfxzvmRUyZnVZTTrD3x3jXEdBBIPlNSE668J=s64",
      "userId": "01747871621320100222"
     },
     "user_tz": -60
    },
    "id": "-12kYaUFkGB4",
    "outputId": "bcb35ac0-2514-4ab7-8608-b941dcec66ba"
   },
   "outputs": [
    {
     "data": {
      "text/html": [
       "<div>\n",
       "<style scoped>\n",
       "    .dataframe tbody tr th:only-of-type {\n",
       "        vertical-align: middle;\n",
       "    }\n",
       "\n",
       "    .dataframe tbody tr th {\n",
       "        vertical-align: top;\n",
       "    }\n",
       "\n",
       "    .dataframe thead th {\n",
       "        text-align: right;\n",
       "    }\n",
       "</style>\n",
       "<table border=\"1\" class=\"dataframe\">\n",
       "  <thead>\n",
       "    <tr style=\"text-align: right;\">\n",
       "      <th></th>\n",
       "      <th>serviceCharge</th>\n",
       "      <th>telekomHybridUploadSpeed</th>\n",
       "      <th>picturecount</th>\n",
       "      <th>pricetrend</th>\n",
       "      <th>telekomUploadSpeed</th>\n",
       "      <th>totalRent</th>\n",
       "      <th>yearConstructed</th>\n",
       "      <th>scoutId</th>\n",
       "      <th>noParkSpaces</th>\n",
       "      <th>yearConstructedRange</th>\n",
       "      <th>...</th>\n",
       "      <th>noRooms</th>\n",
       "      <th>thermalChar</th>\n",
       "      <th>floor</th>\n",
       "      <th>numberOfFloors</th>\n",
       "      <th>noRoomsRange</th>\n",
       "      <th>livingSpaceRange</th>\n",
       "      <th>heatingCosts</th>\n",
       "      <th>lastRefurbish</th>\n",
       "      <th>electricityBasePrice</th>\n",
       "      <th>electricityKwhPrice</th>\n",
       "    </tr>\n",
       "  </thead>\n",
       "  <tbody>\n",
       "    <tr>\n",
       "      <th>count</th>\n",
       "      <td>261941.000000</td>\n",
       "      <td>45020.0</td>\n",
       "      <td>268850.000000</td>\n",
       "      <td>267018.000000</td>\n",
       "      <td>235492.000000</td>\n",
       "      <td>2.283330e+05</td>\n",
       "      <td>211805.000000</td>\n",
       "      <td>2.688500e+05</td>\n",
       "      <td>93052.000000</td>\n",
       "      <td>211805.000000</td>\n",
       "      <td>...</td>\n",
       "      <td>268850.000000</td>\n",
       "      <td>162344.000000</td>\n",
       "      <td>217541.000000</td>\n",
       "      <td>171118.000000</td>\n",
       "      <td>268850.000000</td>\n",
       "      <td>268850.000000</td>\n",
       "      <td>85518.000000</td>\n",
       "      <td>80711.000000</td>\n",
       "      <td>46846.000000</td>\n",
       "      <td>46846.000000</td>\n",
       "    </tr>\n",
       "    <tr>\n",
       "      <th>mean</th>\n",
       "      <td>151.206113</td>\n",
       "      <td>10.0</td>\n",
       "      <td>9.791958</td>\n",
       "      <td>3.389001</td>\n",
       "      <td>28.804928</td>\n",
       "      <td>9.013315e+02</td>\n",
       "      <td>1966.400590</td>\n",
       "      <td>1.069697e+08</td>\n",
       "      <td>1.327634</td>\n",
       "      <td>3.714544</td>\n",
       "      <td>...</td>\n",
       "      <td>2.641261</td>\n",
       "      <td>114.749533</td>\n",
       "      <td>2.122405</td>\n",
       "      <td>3.572319</td>\n",
       "      <td>2.571542</td>\n",
       "      <td>3.070790</td>\n",
       "      <td>76.990866</td>\n",
       "      <td>2013.904536</td>\n",
       "      <td>89.113612</td>\n",
       "      <td>0.199769</td>\n",
       "    </tr>\n",
       "    <tr>\n",
       "      <th>std</th>\n",
       "      <td>308.295790</td>\n",
       "      <td>0.0</td>\n",
       "      <td>6.408399</td>\n",
       "      <td>1.964874</td>\n",
       "      <td>16.337151</td>\n",
       "      <td>3.323833e+04</td>\n",
       "      <td>46.992207</td>\n",
       "      <td>1.250093e+07</td>\n",
       "      <td>8.361403</td>\n",
       "      <td>2.738134</td>\n",
       "      <td>...</td>\n",
       "      <td>2.633440</td>\n",
       "      <td>61.653663</td>\n",
       "      <td>3.634934</td>\n",
       "      <td>6.375496</td>\n",
       "      <td>0.937594</td>\n",
       "      <td>1.407127</td>\n",
       "      <td>147.716278</td>\n",
       "      <td>10.963125</td>\n",
       "      <td>5.395805</td>\n",
       "      <td>0.009667</td>\n",
       "    </tr>\n",
       "    <tr>\n",
       "      <th>min</th>\n",
       "      <td>0.000000</td>\n",
       "      <td>10.0</td>\n",
       "      <td>0.000000</td>\n",
       "      <td>-12.330000</td>\n",
       "      <td>1.000000</td>\n",
       "      <td>0.000000e+00</td>\n",
       "      <td>1000.000000</td>\n",
       "      <td>2.887174e+07</td>\n",
       "      <td>0.000000</td>\n",
       "      <td>1.000000</td>\n",
       "      <td>...</td>\n",
       "      <td>1.000000</td>\n",
       "      <td>0.100000</td>\n",
       "      <td>-1.000000</td>\n",
       "      <td>0.000000</td>\n",
       "      <td>1.000000</td>\n",
       "      <td>1.000000</td>\n",
       "      <td>0.000000</td>\n",
       "      <td>1015.000000</td>\n",
       "      <td>71.430000</td>\n",
       "      <td>0.170500</td>\n",
       "    </tr>\n",
       "    <tr>\n",
       "      <th>25%</th>\n",
       "      <td>95.000000</td>\n",
       "      <td>10.0</td>\n",
       "      <td>6.000000</td>\n",
       "      <td>2.000000</td>\n",
       "      <td>10.000000</td>\n",
       "      <td>4.698000e+02</td>\n",
       "      <td>1950.000000</td>\n",
       "      <td>1.066910e+08</td>\n",
       "      <td>1.000000</td>\n",
       "      <td>1.000000</td>\n",
       "      <td>...</td>\n",
       "      <td>2.000000</td>\n",
       "      <td>79.000000</td>\n",
       "      <td>1.000000</td>\n",
       "      <td>2.000000</td>\n",
       "      <td>2.000000</td>\n",
       "      <td>2.000000</td>\n",
       "      <td>54.000000</td>\n",
       "      <td>2012.000000</td>\n",
       "      <td>90.760000</td>\n",
       "      <td>0.191500</td>\n",
       "    </tr>\n",
       "    <tr>\n",
       "      <th>50%</th>\n",
       "      <td>135.000000</td>\n",
       "      <td>10.0</td>\n",
       "      <td>9.000000</td>\n",
       "      <td>3.390000</td>\n",
       "      <td>40.000000</td>\n",
       "      <td>6.500000e+02</td>\n",
       "      <td>1973.000000</td>\n",
       "      <td>1.111584e+08</td>\n",
       "      <td>1.000000</td>\n",
       "      <td>3.000000</td>\n",
       "      <td>...</td>\n",
       "      <td>3.000000</td>\n",
       "      <td>107.000000</td>\n",
       "      <td>2.000000</td>\n",
       "      <td>3.000000</td>\n",
       "      <td>3.000000</td>\n",
       "      <td>3.000000</td>\n",
       "      <td>70.000000</td>\n",
       "      <td>2017.000000</td>\n",
       "      <td>90.760000</td>\n",
       "      <td>0.198500</td>\n",
       "    </tr>\n",
       "    <tr>\n",
       "      <th>75%</th>\n",
       "      <td>190.000000</td>\n",
       "      <td>10.0</td>\n",
       "      <td>13.000000</td>\n",
       "      <td>4.570000</td>\n",
       "      <td>40.000000</td>\n",
       "      <td>9.850000e+02</td>\n",
       "      <td>1996.000000</td>\n",
       "      <td>1.137688e+08</td>\n",
       "      <td>1.000000</td>\n",
       "      <td>5.000000</td>\n",
       "      <td>...</td>\n",
       "      <td>3.000000</td>\n",
       "      <td>140.300000</td>\n",
       "      <td>3.000000</td>\n",
       "      <td>4.000000</td>\n",
       "      <td>3.000000</td>\n",
       "      <td>4.000000</td>\n",
       "      <td>90.000000</td>\n",
       "      <td>2019.000000</td>\n",
       "      <td>90.760000</td>\n",
       "      <td>0.205500</td>\n",
       "    </tr>\n",
       "    <tr>\n",
       "      <th>max</th>\n",
       "      <td>146118.000000</td>\n",
       "      <td>10.0</td>\n",
       "      <td>121.000000</td>\n",
       "      <td>14.920000</td>\n",
       "      <td>100.000000</td>\n",
       "      <td>1.575154e+07</td>\n",
       "      <td>2090.000000</td>\n",
       "      <td>1.157117e+08</td>\n",
       "      <td>2241.000000</td>\n",
       "      <td>9.000000</td>\n",
       "      <td>...</td>\n",
       "      <td>999.990000</td>\n",
       "      <td>1996.000000</td>\n",
       "      <td>999.000000</td>\n",
       "      <td>999.000000</td>\n",
       "      <td>5.000000</td>\n",
       "      <td>7.000000</td>\n",
       "      <td>12613.000000</td>\n",
       "      <td>2919.000000</td>\n",
       "      <td>90.760000</td>\n",
       "      <td>0.227600</td>\n",
       "    </tr>\n",
       "  </tbody>\n",
       "</table>\n",
       "<p>8 rows × 24 columns</p>\n",
       "</div>"
      ],
      "text/plain": [
       "       serviceCharge  telekomHybridUploadSpeed   picturecount     pricetrend  \\\n",
       "count  261941.000000                   45020.0  268850.000000  267018.000000   \n",
       "mean      151.206113                      10.0       9.791958       3.389001   \n",
       "std       308.295790                       0.0       6.408399       1.964874   \n",
       "min         0.000000                      10.0       0.000000     -12.330000   \n",
       "25%        95.000000                      10.0       6.000000       2.000000   \n",
       "50%       135.000000                      10.0       9.000000       3.390000   \n",
       "75%       190.000000                      10.0      13.000000       4.570000   \n",
       "max    146118.000000                      10.0     121.000000      14.920000   \n",
       "\n",
       "       telekomUploadSpeed     totalRent  yearConstructed       scoutId  \\\n",
       "count       235492.000000  2.283330e+05    211805.000000  2.688500e+05   \n",
       "mean            28.804928  9.013315e+02      1966.400590  1.069697e+08   \n",
       "std             16.337151  3.323833e+04        46.992207  1.250093e+07   \n",
       "min              1.000000  0.000000e+00      1000.000000  2.887174e+07   \n",
       "25%             10.000000  4.698000e+02      1950.000000  1.066910e+08   \n",
       "50%             40.000000  6.500000e+02      1973.000000  1.111584e+08   \n",
       "75%             40.000000  9.850000e+02      1996.000000  1.137688e+08   \n",
       "max            100.000000  1.575154e+07      2090.000000  1.157117e+08   \n",
       "\n",
       "       noParkSpaces  yearConstructedRange  ...        noRooms    thermalChar  \\\n",
       "count  93052.000000         211805.000000  ...  268850.000000  162344.000000   \n",
       "mean       1.327634              3.714544  ...       2.641261     114.749533   \n",
       "std        8.361403              2.738134  ...       2.633440      61.653663   \n",
       "min        0.000000              1.000000  ...       1.000000       0.100000   \n",
       "25%        1.000000              1.000000  ...       2.000000      79.000000   \n",
       "50%        1.000000              3.000000  ...       3.000000     107.000000   \n",
       "75%        1.000000              5.000000  ...       3.000000     140.300000   \n",
       "max     2241.000000              9.000000  ...     999.990000    1996.000000   \n",
       "\n",
       "               floor  numberOfFloors   noRoomsRange  livingSpaceRange  \\\n",
       "count  217541.000000   171118.000000  268850.000000     268850.000000   \n",
       "mean        2.122405        3.572319       2.571542          3.070790   \n",
       "std         3.634934        6.375496       0.937594          1.407127   \n",
       "min        -1.000000        0.000000       1.000000          1.000000   \n",
       "25%         1.000000        2.000000       2.000000          2.000000   \n",
       "50%         2.000000        3.000000       3.000000          3.000000   \n",
       "75%         3.000000        4.000000       3.000000          4.000000   \n",
       "max       999.000000      999.000000       5.000000          7.000000   \n",
       "\n",
       "       heatingCosts  lastRefurbish  electricityBasePrice  electricityKwhPrice  \n",
       "count  85518.000000   80711.000000          46846.000000         46846.000000  \n",
       "mean      76.990866    2013.904536             89.113612             0.199769  \n",
       "std      147.716278      10.963125              5.395805             0.009667  \n",
       "min        0.000000    1015.000000             71.430000             0.170500  \n",
       "25%       54.000000    2012.000000             90.760000             0.191500  \n",
       "50%       70.000000    2017.000000             90.760000             0.198500  \n",
       "75%       90.000000    2019.000000             90.760000             0.205500  \n",
       "max    12613.000000    2919.000000             90.760000             0.227600  \n",
       "\n",
       "[8 rows x 24 columns]"
      ]
     },
     "execution_count": 5,
     "metadata": {},
     "output_type": "execute_result"
    }
   ],
   "source": [
    "df.describe()"
   ]
  },
  {
   "cell_type": "code",
   "execution_count": 6,
   "metadata": {
    "colab": {
     "base_uri": "https://localhost:8080/",
     "height": 495
    },
    "executionInfo": {
     "elapsed": 2597,
     "status": "ok",
     "timestamp": 1645270430419,
     "user": {
      "displayName": "Felix",
      "photoUrl": "https://lh3.googleusercontent.com/a-/AOh14GiAwfxzvmRUyZnVZTTrD3x3jXEdBBIPlNSE668J=s64",
      "userId": "01747871621320100222"
     },
     "user_tz": -60
    },
    "id": "z7O8OXoH_RYu",
    "outputId": "c3f4fea5-66f0-46e3-b396-98a06dcbfbad"
   },
   "outputs": [
    {
     "name": "stderr",
     "output_type": "stream",
     "text": [
      "/opt/anaconda3/lib/python3.9/site-packages/seaborn/_decorators.py:36: FutureWarning: Pass the following variables as keyword args: x, y. From version 0.12, the only valid positional argument will be `data`, and passing other arguments without an explicit keyword will result in an error or misinterpretation.\n",
      "  warnings.warn(\n",
      "/opt/anaconda3/lib/python3.9/site-packages/seaborn/_decorators.py:36: FutureWarning: Pass the following variables as keyword args: x, y. From version 0.12, the only valid positional argument will be `data`, and passing other arguments without an explicit keyword will result in an error or misinterpretation.\n",
      "  warnings.warn(\n"
     ]
    },
    {
     "data": {
      "text/plain": [
       "Text(0.5, 0, 'Baujahr')"
      ]
     },
     "execution_count": 6,
     "metadata": {},
     "output_type": "execute_result"
    },
    {
     "data": {
      "image/png": "[encoded data removed]",
      "text/plain": [
       "<Figure size 1224x432 with 2 Axes>"
      ]
     },
     "metadata": {
      "needs_background": "light"
     },
     "output_type": "display_data"
    }
   ],
   "source": [
    "fig, axs = plt.subplots(figsize=(17, 6), ncols=2)\n",
    "sns.scatterplot(df['livingSpace'], df['baseRent'], ax=axs[0])\n",
    "sns.scatterplot(df['yearConstructed'], df['baseRent'], ax=axs[1])\n",
    "axs[0].yaxis.set_major_formatter(tkr.FuncFormatter(lambda x, p: '{:.0f} €'.format(x)))\n",
    "axs[0].set_xlabel('Wohnflache')\n",
    "axs[0].set_ylabel('Kaltmiete')\n",
    "axs[1].yaxis.set_major_formatter(tkr.FuncFormatter(lambda x, p: '{:.0f} €'.format(x)))\n",
    "axs[1].set_ylabel('Kaltmiete')\n",
    "axs[1].set_xlabel('Baujahr')"
   ]
  },
  {
   "cell_type": "code",
   "execution_count": 7,
   "metadata": {
    "colab": {
     "base_uri": "https://localhost:8080/"
    },
    "executionInfo": {
     "elapsed": 4,
     "status": "ok",
     "timestamp": 1645270430420,
     "user": {
      "displayName": "Felix",
      "photoUrl": "https://lh3.googleusercontent.com/a-/AOh14GiAwfxzvmRUyZnVZTTrD3x3jXEdBBIPlNSE668J=s64",
      "userId": "01747871621320100222"
     },
     "user_tz": -60
    },
    "id": "pZu2MeJy45DR",
    "outputId": "14ae8f29-c41f-4cf8-f207-156fb4f80228"
   },
   "outputs": [
    {
     "name": "stdout",
     "output_type": "stream",
     "text": [
      "<class 'pandas.core.frame.DataFrame'>\n",
      "RangeIndex: 268850 entries, 0 to 268849\n",
      "Data columns (total 49 columns):\n",
      " #   Column                    Non-Null Count   Dtype  \n",
      "---  ------                    --------------   -----  \n",
      " 0   regio1                    268850 non-null  object \n",
      " 1   serviceCharge             261941 non-null  float64\n",
      " 2   heatingType               223994 non-null  object \n",
      " 3   telekomTvOffer            236231 non-null  object \n",
      " 4   telekomHybridUploadSpeed  45020 non-null   float64\n",
      " 5   newlyConst                268850 non-null  bool   \n",
      " 6   balcony                   268850 non-null  bool   \n",
      " 7   picturecount              268850 non-null  int64  \n",
      " 8   pricetrend                267018 non-null  float64\n",
      " 9   telekomUploadSpeed        235492 non-null  float64\n",
      " 10  totalRent                 228333 non-null  float64\n",
      " 11  yearConstructed           211805 non-null  float64\n",
      " 12  scoutId                   268850 non-null  int64  \n",
      " 13  noParkSpaces              93052 non-null   float64\n",
      " 14  firingTypes               211886 non-null  object \n",
      " 15  hasKitchen                268850 non-null  bool   \n",
      " 16  geo_bln                   268850 non-null  object \n",
      " 17  cellar                    268850 non-null  bool   \n",
      " 18  yearConstructedRange      211805 non-null  float64\n",
      " 19  baseRent                  268850 non-null  float64\n",
      " 20  houseNumber               197832 non-null  object \n",
      " 21  livingSpace               268850 non-null  float64\n",
      " 22  geo_krs                   268850 non-null  object \n",
      " 23  condition                 200361 non-null  object \n",
      " 24  interiorQual              156185 non-null  object \n",
      " 25  petsAllowed               154277 non-null  object \n",
      " 26  street                    268850 non-null  object \n",
      " 27  streetPlain               197837 non-null  object \n",
      " 28  lift                      268850 non-null  bool   \n",
      " 29  baseRentRange             268850 non-null  int64  \n",
      " 30  typeOfFlat                232236 non-null  object \n",
      " 31  geo_plz                   268850 non-null  int64  \n",
      " 32  noRooms                   268850 non-null  float64\n",
      " 33  thermalChar               162344 non-null  float64\n",
      " 34  floor                     217541 non-null  float64\n",
      " 35  numberOfFloors            171118 non-null  float64\n",
      " 36  noRoomsRange              268850 non-null  int64  \n",
      " 37  garden                    268850 non-null  bool   \n",
      " 38  livingSpaceRange          268850 non-null  int64  \n",
      " 39  regio2                    268850 non-null  object \n",
      " 40  regio3                    268850 non-null  object \n",
      " 41  description               249103 non-null  object \n",
      " 42  facilities                215926 non-null  object \n",
      " 43  heatingCosts              85518 non-null   float64\n",
      " 44  energyEfficiencyClass     77787 non-null   object \n",
      " 45  lastRefurbish             80711 non-null   float64\n",
      " 46  electricityBasePrice      46846 non-null   float64\n",
      " 47  electricityKwhPrice       46846 non-null   float64\n",
      " 48  date                      268850 non-null  object \n",
      "dtypes: bool(6), float64(18), int64(6), object(19)\n",
      "memory usage: 89.7+ MB\n"
     ]
    }
   ],
   "source": [
    "df.info()"
   ]
  },
  {
   "cell_type": "markdown",
   "metadata": {
    "id": "yB7OvC7mxh9p"
   },
   "source": [
    "# 3. Data Preparation\n",
    "\n",
    "Die Datenvorbereitung oder Data Preparation dient dazu, einen finalen Datensatz zu erstellen, der die Basis für die nächste Phase der Modellierung bildet."
   ]
  },
  {
   "cell_type": "markdown",
   "metadata": {
    "id": "zzqes8mW_a_V"
   },
   "source": [
    "### Outliers ausfiltern"
   ]
  },
  {
   "cell_type": "code",
   "execution_count": 8,
   "metadata": {
    "colab": {
     "base_uri": "https://localhost:8080/",
     "height": 112
    },
    "executionInfo": {
     "elapsed": 5,
     "status": "ok",
     "timestamp": 1645266144137,
     "user": {
      "displayName": "Felix",
      "photoUrl": "https://lh3.googleusercontent.com/a-/AOh14GiAwfxzvmRUyZnVZTTrD3x3jXEdBBIPlNSE668J=s64",
      "userId": "01747871621320100222"
     },
     "user_tz": -60
    },
    "id": "jwrIrfky17te",
    "outputId": "5a2a0b87-1e6d-4ad7-a2a1-721418ec3e7b"
   },
   "outputs": [
    {
     "data": {
      "text/html": [
       "<div>\n",
       "<style scoped>\n",
       "    .dataframe tbody tr th:only-of-type {\n",
       "        vertical-align: middle;\n",
       "    }\n",
       "\n",
       "    .dataframe tbody tr th {\n",
       "        vertical-align: top;\n",
       "    }\n",
       "\n",
       "    .dataframe thead th {\n",
       "        text-align: right;\n",
       "    }\n",
       "</style>\n",
       "<table border=\"1\" class=\"dataframe\">\n",
       "  <thead>\n",
       "    <tr style=\"text-align: right;\">\n",
       "      <th>Merkmale</th>\n",
       "      <th>Kaltmiete</th>\n",
       "      <th>Wohnflache</th>\n",
       "      <th>Baujahr</th>\n",
       "      <th>Zimmer Anzahl</th>\n",
       "      <th>Etage</th>\n",
       "      <th>Anzahl Geschosse</th>\n",
       "    </tr>\n",
       "  </thead>\n",
       "  <tbody>\n",
       "    <tr>\n",
       "      <th>Minimum Wert</th>\n",
       "      <td>200</td>\n",
       "      <td>20</td>\n",
       "      <td>1800</td>\n",
       "      <td>-</td>\n",
       "      <td>-</td>\n",
       "      <td>-</td>\n",
       "    </tr>\n",
       "    <tr>\n",
       "      <th>Maximum Wert</th>\n",
       "      <td>2200</td>\n",
       "      <td>200</td>\n",
       "      <td>2020</td>\n",
       "      <td>10</td>\n",
       "      <td>20</td>\n",
       "      <td>20</td>\n",
       "    </tr>\n",
       "  </tbody>\n",
       "</table>\n",
       "</div>"
      ],
      "text/plain": [
       "Merkmale     Kaltmiete Wohnflache Baujahr Zimmer Anzahl Etage Anzahl Geschosse\n",
       "Minimum Wert       200         20    1800             -     -                -\n",
       "Maximum Wert      2200        200    2020            10    20               20"
      ]
     },
     "execution_count": 8,
     "metadata": {},
     "output_type": "execute_result"
    }
   ],
   "source": [
    "outl = { 'bRentMin': 200, 'bRentMax': 2200, 'lSpaceMin': 20, \n",
    "        'lSpaceMax': 200,  'ycMin': 1800, 'ycMax': 2020, \n",
    "            'noRoomsMax': 10, 'floorMax': 20, 'noFloorsMax': 20}\n",
    "outlDf=pd.DataFrame({'Merkmale': ['Kaltmiete', 'Wohnflache', 'Baujahr', \n",
    "                                  'Zimmer Anzahl', 'Etage', 'Anzahl Geschosse'], \n",
    "              'Minimum Wert': [outl['bRentMin'], outl['lSpaceMin'], \n",
    "                               outl['ycMin'], '-', '-', '-'], \n",
    "              'Maximum Wert': [outl['bRentMax'], outl['lSpaceMax'], outl['ycMax'], \n",
    "                               outl['noRoomsMax'], outl['floorMax'], \n",
    "                               outl['noFloorsMax']]}).T\n",
    "outlDf.columns = outlDf.iloc[0]\n",
    "outlDf.drop(outlDf.index[0], inplace=True)\n",
    "outlDf"
   ]
  },
  {
   "cell_type": "code",
   "execution_count": 9,
   "metadata": {
    "id": "xOJ91d0kBrt7"
   },
   "outputs": [],
   "source": [
    "dfClean = df.loc[(\n",
    "    (((df['baseRent'] > outl['bRentMin']) & (df['baseRent'] <= outl['bRentMax']))\n",
    "     | df['baseRent'].isnull())\n",
    "  & ( ((df['livingSpace'] >= outl['lSpaceMin']) \n",
    "       & (df['livingSpace'] <= outl['lSpaceMax'])) | df['livingSpace'].isnull())  \n",
    "  & ( ( ( df['yearConstructed'] > outl['ycMin']) \n",
    "       & (df['yearConstructed'] < outl['ycMax'])) | df['yearConstructed'].isnull())\n",
    "  & ( (df['noRooms'] <= outl['noRoomsMax'])  | df['noRooms'].isnull())\n",
    "  & ( (df['floor'] <= outl['floorMax'])  | df['floor'].isnull())\n",
    "  & ( (df['numberOfFloors'] <= outl['noFloorsMax']) | df['numberOfFloors'].isnull())\n",
    "  )]"
   ]
  },
  {
   "cell_type": "code",
   "execution_count": 10,
   "metadata": {
    "colab": {
     "base_uri": "https://localhost:8080/",
     "height": 441
    },
    "executionInfo": {
     "elapsed": 3980,
     "status": "ok",
     "timestamp": 1645266148113,
     "user": {
      "displayName": "Felix",
      "photoUrl": "https://lh3.googleusercontent.com/a-/AOh14GiAwfxzvmRUyZnVZTTrD3x3jXEdBBIPlNSE668J=s64",
      "userId": "01747871621320100222"
     },
     "user_tz": -60
    },
    "id": "eNGJA2W80G6a",
    "outputId": "7bf584e2-2c00-449e-df38-11264d4b0634"
   },
   "outputs": [
    {
     "name": "stderr",
     "output_type": "stream",
     "text": [
      "/opt/anaconda3/lib/python3.9/site-packages/seaborn/_decorators.py:36: FutureWarning: Pass the following variables as keyword args: x, y. From version 0.12, the only valid positional argument will be `data`, and passing other arguments without an explicit keyword will result in an error or misinterpretation.\n",
      "  warnings.warn(\n",
      "/opt/anaconda3/lib/python3.9/site-packages/seaborn/_decorators.py:36: FutureWarning: Pass the following variables as keyword args: x, y. From version 0.12, the only valid positional argument will be `data`, and passing other arguments without an explicit keyword will result in an error or misinterpretation.\n",
      "  warnings.warn(\n"
     ]
    },
    {
     "data": {
      "text/plain": [
       "Text(0.5, 0, 'Baujahr')"
      ]
     },
     "execution_count": 10,
     "metadata": {},
     "output_type": "execute_result"
    },
    {
     "data": {
      "image/png": "[encoded data removed]",
      "text/plain": [
       "<Figure size 864x360 with 2 Axes>"
      ]
     },
     "metadata": {
      "needs_background": "light"
     },
     "output_type": "display_data"
    }
   ],
   "source": [
    "fig, axs = plt.subplots(figsize=(12, 5), ncols=2)\n",
    "sns.scatterplot(dfClean['livingSpace'], dfClean['baseRent'], ax=axs[0])\n",
    "sns.scatterplot(dfClean['yearConstructed'], dfClean['baseRent'], ax=axs[1])\n",
    "axs[0].yaxis.set_major_formatter(tkr.FuncFormatter(lambda x, \n",
    "                                                   p: '{:.0f} €'.format(x)))\n",
    "axs[0].set_xlabel('Wohnflache')\n",
    "axs[0].set_ylabel('Kaltmiete')\n",
    "axs[1].yaxis.set_major_formatter(tkr.FuncFormatter(lambda x, \n",
    "                                                   p: '{:.0f} €'.format(x)))\n",
    "axs[1].set_ylabel('Kaltmiete')\n",
    "axs[1].set_xlabel('Baujahr')"
   ]
  },
  {
   "cell_type": "markdown",
   "metadata": {
    "id": "DxNAyXsuCgRv"
   },
   "source": [
    "### Unnötige Spalten"
   ]
  },
  {
   "cell_type": "markdown",
   "metadata": {
    "id": "A8z7GilC78vU"
   },
   "source": [
    "Der Datensatz enthält eine große Anzahl an Regionen und Städten.\n",
    "\n",
    "In der folgenden Übersicht wird die Anzahl der Inserate pro Region/Stadt dargestellt.\n"
   ]
  },
  {
   "cell_type": "code",
   "execution_count": 11,
   "metadata": {
    "colab": {
     "base_uri": "https://localhost:8080/"
    },
    "executionInfo": {
     "elapsed": 9,
     "status": "ok",
     "timestamp": 1645266148113,
     "user": {
      "displayName": "Felix",
      "photoUrl": "https://lh3.googleusercontent.com/a-/AOh14GiAwfxzvmRUyZnVZTTrD3x3jXEdBBIPlNSE668J=s64",
      "userId": "01747871621320100222"
     },
     "user_tz": -60
    },
    "id": "ejGl_p_u83kA",
    "outputId": "b41e2856-1b1f-40a9-efca-3d2da4a1340a"
   },
   "outputs": [
    {
     "data": {
      "text/plain": [
       "Leipzig                                   13411\n",
       "Chemnitz                                  11215\n",
       "Berlin                                     9317\n",
       "Dresden                                    7225\n",
       "Magdeburg                                  4721\n",
       "Halle_Saale                                4324\n",
       "Essen                                      4286\n",
       "Frankfurt_am_Main                          3526\n",
       "Duisburg                                   3462\n",
       "Düsseldorf                                 3444\n",
       "Hamburg                                    3402\n",
       "München                                    3278\n",
       "Dortmund                                   3078\n",
       "Gelsenkirchen                              2891\n",
       "Mittelsachsen_Kreis                        2761\n",
       "Recklinghausen_Kreis                       2707\n",
       "Köln                                       2521\n",
       "Zwickau                                    2335\n",
       "Wuppertal                                  2316\n",
       "Leipzig_Kreis                              2130\n",
       "Meißen_Kreis                               2097\n",
       "Zwickau_Kreis                              2057\n",
       "Bochum                                     1967\n",
       "Sächsische_Schweiz_Osterzgebirge_Kreis     1921\n",
       "Bremen                                     1914\n",
       "Aachen                                     1841\n",
       "Gera                                       1758\n",
       "Nürnberg                                   1730\n",
       "Hannover                                   1657\n",
       "Erzgebirgskreis                            1654\n",
       "Wiesbaden                                  1600\n",
       "Plauen                                     1576\n",
       "Saalekreis                                 1545\n",
       "Märkischer_Kreis                           1515\n",
       "Stuttgart                                  1479\n",
       "Name: regio2, dtype: int64"
      ]
     },
     "execution_count": 11,
     "metadata": {},
     "output_type": "execute_result"
    }
   ],
   "source": [
    "dfClean['regio2'].value_counts().head(35)"
   ]
  },
  {
   "cell_type": "code",
   "execution_count": 12,
   "metadata": {
    "id": "YKfjszZp79nN"
   },
   "outputs": [],
   "source": [
    "dfClean = dfClean.loc[dfClean['regio2'].isin(\n",
    "    ['Berlin', 'München', 'Hamburg', 'Köln', \n",
    "     'Frankfurt_am_Main', 'Stuttgart'])]"
   ]
  },
  {
   "cell_type": "markdown",
   "metadata": {
    "id": "s8LUSH7BDtMt"
   },
   "source": [
    "\n",
    "Um mögliche fehlende Daten zu identifizieren, sortieren wir die Daten absteigend nach Anzahl der Datenpunkte der jeweiligen Merkmale."
   ]
  },
  {
   "cell_type": "code",
   "execution_count": 13,
   "metadata": {
    "colab": {
     "base_uri": "https://localhost:8080/",
     "height": 1000
    },
    "executionInfo": {
     "elapsed": 554,
     "status": "ok",
     "timestamp": 1645266148661,
     "user": {
      "displayName": "Felix",
      "photoUrl": "https://lh3.googleusercontent.com/a-/AOh14GiAwfxzvmRUyZnVZTTrD3x3jXEdBBIPlNSE668J=s64",
      "userId": "01747871621320100222"
     },
     "user_tz": -60
    },
    "id": "q9oqxHlPj2VU",
    "outputId": "b72a013d-7b78-4aae-8ac1-f27e42f9f1e5"
   },
   "outputs": [
    {
     "data": {
      "text/html": [
       "<div>\n",
       "<style scoped>\n",
       "    .dataframe tbody tr th:only-of-type {\n",
       "        vertical-align: middle;\n",
       "    }\n",
       "\n",
       "    .dataframe tbody tr th {\n",
       "        vertical-align: top;\n",
       "    }\n",
       "\n",
       "    .dataframe thead th {\n",
       "        text-align: right;\n",
       "    }\n",
       "</style>\n",
       "<table border=\"1\" class=\"dataframe\">\n",
       "  <thead>\n",
       "    <tr style=\"text-align: right;\">\n",
       "      <th></th>\n",
       "      <th>Total</th>\n",
       "      <th>Percent</th>\n",
       "    </tr>\n",
       "  </thead>\n",
       "  <tbody>\n",
       "    <tr>\n",
       "      <th>regio1</th>\n",
       "      <td>268850</td>\n",
       "      <td>100.000000</td>\n",
       "    </tr>\n",
       "    <tr>\n",
       "      <th>geo_bln</th>\n",
       "      <td>268850</td>\n",
       "      <td>100.000000</td>\n",
       "    </tr>\n",
       "    <tr>\n",
       "      <th>regio3</th>\n",
       "      <td>268850</td>\n",
       "      <td>100.000000</td>\n",
       "    </tr>\n",
       "    <tr>\n",
       "      <th>regio2</th>\n",
       "      <td>268850</td>\n",
       "      <td>100.000000</td>\n",
       "    </tr>\n",
       "    <tr>\n",
       "      <th>livingSpaceRange</th>\n",
       "      <td>268850</td>\n",
       "      <td>100.000000</td>\n",
       "    </tr>\n",
       "    <tr>\n",
       "      <th>garden</th>\n",
       "      <td>268850</td>\n",
       "      <td>100.000000</td>\n",
       "    </tr>\n",
       "    <tr>\n",
       "      <th>noRoomsRange</th>\n",
       "      <td>268850</td>\n",
       "      <td>100.000000</td>\n",
       "    </tr>\n",
       "    <tr>\n",
       "      <th>noRooms</th>\n",
       "      <td>268850</td>\n",
       "      <td>100.000000</td>\n",
       "    </tr>\n",
       "    <tr>\n",
       "      <th>geo_plz</th>\n",
       "      <td>268850</td>\n",
       "      <td>100.000000</td>\n",
       "    </tr>\n",
       "    <tr>\n",
       "      <th>baseRentRange</th>\n",
       "      <td>268850</td>\n",
       "      <td>100.000000</td>\n",
       "    </tr>\n",
       "    <tr>\n",
       "      <th>lift</th>\n",
       "      <td>268850</td>\n",
       "      <td>100.000000</td>\n",
       "    </tr>\n",
       "    <tr>\n",
       "      <th>street</th>\n",
       "      <td>268850</td>\n",
       "      <td>100.000000</td>\n",
       "    </tr>\n",
       "    <tr>\n",
       "      <th>geo_krs</th>\n",
       "      <td>268850</td>\n",
       "      <td>100.000000</td>\n",
       "    </tr>\n",
       "    <tr>\n",
       "      <th>livingSpace</th>\n",
       "      <td>268850</td>\n",
       "      <td>100.000000</td>\n",
       "    </tr>\n",
       "    <tr>\n",
       "      <th>baseRent</th>\n",
       "      <td>268850</td>\n",
       "      <td>100.000000</td>\n",
       "    </tr>\n",
       "    <tr>\n",
       "      <th>cellar</th>\n",
       "      <td>268850</td>\n",
       "      <td>100.000000</td>\n",
       "    </tr>\n",
       "    <tr>\n",
       "      <th>date</th>\n",
       "      <td>268850</td>\n",
       "      <td>100.000000</td>\n",
       "    </tr>\n",
       "    <tr>\n",
       "      <th>hasKitchen</th>\n",
       "      <td>268850</td>\n",
       "      <td>100.000000</td>\n",
       "    </tr>\n",
       "    <tr>\n",
       "      <th>newlyConst</th>\n",
       "      <td>268850</td>\n",
       "      <td>100.000000</td>\n",
       "    </tr>\n",
       "    <tr>\n",
       "      <th>balcony</th>\n",
       "      <td>268850</td>\n",
       "      <td>100.000000</td>\n",
       "    </tr>\n",
       "    <tr>\n",
       "      <th>picturecount</th>\n",
       "      <td>268850</td>\n",
       "      <td>100.000000</td>\n",
       "    </tr>\n",
       "    <tr>\n",
       "      <th>scoutId</th>\n",
       "      <td>268850</td>\n",
       "      <td>100.000000</td>\n",
       "    </tr>\n",
       "    <tr>\n",
       "      <th>pricetrend</th>\n",
       "      <td>267018</td>\n",
       "      <td>99.318579</td>\n",
       "    </tr>\n",
       "    <tr>\n",
       "      <th>serviceCharge</th>\n",
       "      <td>261941</td>\n",
       "      <td>97.430166</td>\n",
       "    </tr>\n",
       "    <tr>\n",
       "      <th>description</th>\n",
       "      <td>249103</td>\n",
       "      <td>92.655012</td>\n",
       "    </tr>\n",
       "    <tr>\n",
       "      <th>telekomTvOffer</th>\n",
       "      <td>236231</td>\n",
       "      <td>87.867212</td>\n",
       "    </tr>\n",
       "    <tr>\n",
       "      <th>telekomUploadSpeed</th>\n",
       "      <td>235492</td>\n",
       "      <td>87.592338</td>\n",
       "    </tr>\n",
       "    <tr>\n",
       "      <th>typeOfFlat</th>\n",
       "      <td>232236</td>\n",
       "      <td>86.381253</td>\n",
       "    </tr>\n",
       "    <tr>\n",
       "      <th>totalRent</th>\n",
       "      <td>228333</td>\n",
       "      <td>84.929515</td>\n",
       "    </tr>\n",
       "    <tr>\n",
       "      <th>heatingType</th>\n",
       "      <td>223994</td>\n",
       "      <td>83.315603</td>\n",
       "    </tr>\n",
       "    <tr>\n",
       "      <th>floor</th>\n",
       "      <td>217541</td>\n",
       "      <td>80.915380</td>\n",
       "    </tr>\n",
       "    <tr>\n",
       "      <th>facilities</th>\n",
       "      <td>215926</td>\n",
       "      <td>80.314674</td>\n",
       "    </tr>\n",
       "    <tr>\n",
       "      <th>firingTypes</th>\n",
       "      <td>211886</td>\n",
       "      <td>78.811977</td>\n",
       "    </tr>\n",
       "    <tr>\n",
       "      <th>yearConstructed</th>\n",
       "      <td>211805</td>\n",
       "      <td>78.781849</td>\n",
       "    </tr>\n",
       "    <tr>\n",
       "      <th>yearConstructedRange</th>\n",
       "      <td>211805</td>\n",
       "      <td>78.781849</td>\n",
       "    </tr>\n",
       "    <tr>\n",
       "      <th>condition</th>\n",
       "      <td>200361</td>\n",
       "      <td>74.525200</td>\n",
       "    </tr>\n",
       "    <tr>\n",
       "      <th>streetPlain</th>\n",
       "      <td>197837</td>\n",
       "      <td>73.586386</td>\n",
       "    </tr>\n",
       "    <tr>\n",
       "      <th>houseNumber</th>\n",
       "      <td>197832</td>\n",
       "      <td>73.584527</td>\n",
       "    </tr>\n",
       "    <tr>\n",
       "      <th>numberOfFloors</th>\n",
       "      <td>171118</td>\n",
       "      <td>63.648131</td>\n",
       "    </tr>\n",
       "    <tr>\n",
       "      <th>thermalChar</th>\n",
       "      <td>162344</td>\n",
       "      <td>60.384601</td>\n",
       "    </tr>\n",
       "    <tr>\n",
       "      <th>interiorQual</th>\n",
       "      <td>156185</td>\n",
       "      <td>58.093733</td>\n",
       "    </tr>\n",
       "    <tr>\n",
       "      <th>petsAllowed</th>\n",
       "      <td>154277</td>\n",
       "      <td>57.384043</td>\n",
       "    </tr>\n",
       "    <tr>\n",
       "      <th>noParkSpaces</th>\n",
       "      <td>93052</td>\n",
       "      <td>34.611121</td>\n",
       "    </tr>\n",
       "    <tr>\n",
       "      <th>heatingCosts</th>\n",
       "      <td>85518</td>\n",
       "      <td>31.808815</td>\n",
       "    </tr>\n",
       "    <tr>\n",
       "      <th>lastRefurbish</th>\n",
       "      <td>80711</td>\n",
       "      <td>30.020829</td>\n",
       "    </tr>\n",
       "    <tr>\n",
       "      <th>energyEfficiencyClass</th>\n",
       "      <td>77787</td>\n",
       "      <td>28.933234</td>\n",
       "    </tr>\n",
       "    <tr>\n",
       "      <th>electricityBasePrice</th>\n",
       "      <td>46846</td>\n",
       "      <td>17.424586</td>\n",
       "    </tr>\n",
       "    <tr>\n",
       "      <th>electricityKwhPrice</th>\n",
       "      <td>46846</td>\n",
       "      <td>17.424586</td>\n",
       "    </tr>\n",
       "    <tr>\n",
       "      <th>telekomHybridUploadSpeed</th>\n",
       "      <td>45020</td>\n",
       "      <td>16.745397</td>\n",
       "    </tr>\n",
       "  </tbody>\n",
       "</table>\n",
       "</div>"
      ],
      "text/plain": [
       "                           Total     Percent\n",
       "regio1                    268850  100.000000\n",
       "geo_bln                   268850  100.000000\n",
       "regio3                    268850  100.000000\n",
       "regio2                    268850  100.000000\n",
       "livingSpaceRange          268850  100.000000\n",
       "garden                    268850  100.000000\n",
       "noRoomsRange              268850  100.000000\n",
       "noRooms                   268850  100.000000\n",
       "geo_plz                   268850  100.000000\n",
       "baseRentRange             268850  100.000000\n",
       "lift                      268850  100.000000\n",
       "street                    268850  100.000000\n",
       "geo_krs                   268850  100.000000\n",
       "livingSpace               268850  100.000000\n",
       "baseRent                  268850  100.000000\n",
       "cellar                    268850  100.000000\n",
       "date                      268850  100.000000\n",
       "hasKitchen                268850  100.000000\n",
       "newlyConst                268850  100.000000\n",
       "balcony                   268850  100.000000\n",
       "picturecount              268850  100.000000\n",
       "scoutId                   268850  100.000000\n",
       "pricetrend                267018   99.318579\n",
       "serviceCharge             261941   97.430166\n",
       "description               249103   92.655012\n",
       "telekomTvOffer            236231   87.867212\n",
       "telekomUploadSpeed        235492   87.592338\n",
       "typeOfFlat                232236   86.381253\n",
       "totalRent                 228333   84.929515\n",
       "heatingType               223994   83.315603\n",
       "floor                     217541   80.915380\n",
       "facilities                215926   80.314674\n",
       "firingTypes               211886   78.811977\n",
       "yearConstructed           211805   78.781849\n",
       "yearConstructedRange      211805   78.781849\n",
       "condition                 200361   74.525200\n",
       "streetPlain               197837   73.586386\n",
       "houseNumber               197832   73.584527\n",
       "numberOfFloors            171118   63.648131\n",
       "thermalChar               162344   60.384601\n",
       "interiorQual              156185   58.093733\n",
       "petsAllowed               154277   57.384043\n",
       "noParkSpaces               93052   34.611121\n",
       "heatingCosts               85518   31.808815\n",
       "lastRefurbish              80711   30.020829\n",
       "energyEfficiencyClass      77787   28.933234\n",
       "electricityBasePrice       46846   17.424586\n",
       "electricityKwhPrice        46846   17.424586\n",
       "telekomHybridUploadSpeed   45020   16.745397"
      ]
     },
     "execution_count": 13,
     "metadata": {},
     "output_type": "execute_result"
    }
   ],
   "source": [
    "def getAvailableValues(df, norows = 5):   # input by the df and the number of rows that you want to show\n",
    "    total = df.notnull().sum().sort_values(ascending=False)\n",
    "    percent = ((df.notnull().sum()\n",
    "                .sort_values(ascending=False)/df.shape[0])*100)\n",
    "                .sort_values(ascending=False)\n",
    "    missing_data = pd.concat([total, percent], axis=1, \n",
    "                             keys=['Total', 'Percent'])\n",
    "\n",
    "    return(missing_data.head(norows))\n",
    "\n",
    "availabilityDf = getAvailableValues(df, df.shape[1])\n",
    "availabilityDf"
   ]
  },
  {
   "cell_type": "markdown",
   "metadata": {
    "id": "n7ouyX1vzWJI"
   },
   "source": [
    "Als Ergebnis dieser Auswertung wird festgelegt, dass Merkmale mit Verfügbarkeiten unter 60% nicht weiter betrachtet werden, da unter dieser Grenze die Aussagekraft abnimmt.\n",
    "\n",
    "Der Datensatz wird nun weiter bereinigt und vorbereitet. "
   ]
  },
  {
   "cell_type": "code",
   "execution_count": 14,
   "metadata": {
    "colab": {
     "base_uri": "https://localhost:8080/"
    },
    "executionInfo": {
     "elapsed": 9,
     "status": "ok",
     "timestamp": 1645266148662,
     "user": {
      "displayName": "Felix",
      "photoUrl": "https://lh3.googleusercontent.com/a-/AOh14GiAwfxzvmRUyZnVZTTrD3x3jXEdBBIPlNSE668J=s64",
      "userId": "01747871621320100222"
     },
     "user_tz": -60
    },
    "id": "6_9I3lccwmod",
    "outputId": "abcb42b1-bbda-4a46-95f3-d00fefeafb53"
   },
   "outputs": [
    {
     "data": {
      "text/plain": [
       "Index(['petsAllowed', 'noParkSpaces', 'heatingCosts', 'lastRefurbish',\n",
       "       'energyEfficiencyClass', 'electricityBasePrice', 'electricityKwhPrice',\n",
       "       'telekomHybridUploadSpeed'],\n",
       "      dtype='object')"
      ]
     },
     "execution_count": 14,
     "metadata": {},
     "output_type": "execute_result"
    }
   ],
   "source": [
    "under60Percent = availabilityDf.loc[availabilityDf['Percent'] < 60].index\n",
    "under60Percent = under60Percent.drop(['interiorQual'])\n",
    "under60Percent"
   ]
  },
  {
   "cell_type": "code",
   "execution_count": 15,
   "metadata": {
    "colab": {
     "base_uri": "https://localhost:8080/"
    },
    "executionInfo": {
     "elapsed": 7,
     "status": "ok",
     "timestamp": 1645266148662,
     "user": {
      "displayName": "Felix",
      "photoUrl": "https://lh3.googleusercontent.com/a-/AOh14GiAwfxzvmRUyZnVZTTrD3x3jXEdBBIPlNSE668J=s64",
      "userId": "01747871621320100222"
     },
     "user_tz": -60
    },
    "id": "jFpv0ro6xM0S",
    "outputId": "7e78315e-1eba-4088-e99e-cc6972b95351"
   },
   "outputs": [
    {
     "data": {
      "text/plain": [
       "Index(['regio1', 'serviceCharge', 'heatingType', 'telekomTvOffer',\n",
       "       'newlyConst', 'balcony', 'picturecount', 'pricetrend',\n",
       "       'telekomUploadSpeed', 'totalRent', 'yearConstructed', 'scoutId',\n",
       "       'firingTypes', 'hasKitchen', 'geo_bln', 'cellar',\n",
       "       'yearConstructedRange', 'baseRent', 'houseNumber', 'livingSpace',\n",
       "       'geo_krs', 'condition', 'interiorQual', 'street', 'streetPlain', 'lift',\n",
       "       'baseRentRange', 'typeOfFlat', 'geo_plz', 'noRooms', 'thermalChar',\n",
       "       'floor', 'numberOfFloors', 'noRoomsRange', 'garden', 'livingSpaceRange',\n",
       "       'regio2', 'regio3', 'description', 'facilities', 'date'],\n",
       "      dtype='object')"
      ]
     },
     "execution_count": 15,
     "metadata": {},
     "output_type": "execute_result"
    }
   ],
   "source": [
    "dfClean = dfClean.drop(under60Percent, axis=1)\n",
    "dfClean.columns"
   ]
  },
  {
   "cell_type": "code",
   "execution_count": 16,
   "metadata": {
    "colab": {
     "base_uri": "https://localhost:8080/",
     "height": 398
    },
    "executionInfo": {
     "elapsed": 6,
     "status": "ok",
     "timestamp": 1645266148662,
     "user": {
      "displayName": "Felix",
      "photoUrl": "https://lh3.googleusercontent.com/a-/AOh14GiAwfxzvmRUyZnVZTTrD3x3jXEdBBIPlNSE668J=s64",
      "userId": "01747871621320100222"
     },
     "user_tz": -60
    },
    "id": "zIIynqV4uFoL",
    "outputId": "d5cb824f-eb94-49b3-bfef-a0250dd8f89c"
   },
   "outputs": [
    {
     "data": {
      "text/html": [
       "<div>\n",
       "<style scoped>\n",
       "    .dataframe tbody tr th:only-of-type {\n",
       "        vertical-align: middle;\n",
       "    }\n",
       "\n",
       "    .dataframe tbody tr th {\n",
       "        vertical-align: top;\n",
       "    }\n",
       "\n",
       "    .dataframe thead th {\n",
       "        text-align: right;\n",
       "    }\n",
       "</style>\n",
       "<table border=\"1\" class=\"dataframe\">\n",
       "  <thead>\n",
       "    <tr style=\"text-align: right;\">\n",
       "      <th></th>\n",
       "      <th>regio1</th>\n",
       "      <th>serviceCharge</th>\n",
       "      <th>heatingType</th>\n",
       "      <th>telekomTvOffer</th>\n",
       "      <th>newlyConst</th>\n",
       "      <th>balcony</th>\n",
       "      <th>picturecount</th>\n",
       "      <th>pricetrend</th>\n",
       "      <th>telekomUploadSpeed</th>\n",
       "      <th>totalRent</th>\n",
       "      <th>...</th>\n",
       "      <th>floor</th>\n",
       "      <th>numberOfFloors</th>\n",
       "      <th>noRoomsRange</th>\n",
       "      <th>garden</th>\n",
       "      <th>livingSpaceRange</th>\n",
       "      <th>regio2</th>\n",
       "      <th>regio3</th>\n",
       "      <th>description</th>\n",
       "      <th>facilities</th>\n",
       "      <th>date</th>\n",
       "    </tr>\n",
       "  </thead>\n",
       "  <tbody>\n",
       "    <tr>\n",
       "      <th>21</th>\n",
       "      <td>Baden_Württemberg</td>\n",
       "      <td>0.0</td>\n",
       "      <td>NaN</td>\n",
       "      <td>ONE_YEAR_FREE</td>\n",
       "      <td>False</td>\n",
       "      <td>False</td>\n",
       "      <td>13</td>\n",
       "      <td>5.63</td>\n",
       "      <td>40.0</td>\n",
       "      <td>1190.0</td>\n",
       "      <td>...</td>\n",
       "      <td>3.0</td>\n",
       "      <td>NaN</td>\n",
       "      <td>1</td>\n",
       "      <td>False</td>\n",
       "      <td>1</td>\n",
       "      <td>Stuttgart</td>\n",
       "      <td>Bad_Cannstatt</td>\n",
       "      <td>Helle 3-Zimmer-Wohnung mit Galerie in Bad Cann...</td>\n",
       "      <td>Backofen, Badewanne, Bett 1,40x2m, Bettwäsche,...</td>\n",
       "      <td>Oct19</td>\n",
       "    </tr>\n",
       "    <tr>\n",
       "      <th>23</th>\n",
       "      <td>Bayern</td>\n",
       "      <td>180.0</td>\n",
       "      <td>central_heating</td>\n",
       "      <td>ONE_YEAR_FREE</td>\n",
       "      <td>False</td>\n",
       "      <td>False</td>\n",
       "      <td>18</td>\n",
       "      <td>4.47</td>\n",
       "      <td>10.0</td>\n",
       "      <td>2030.0</td>\n",
       "      <td>...</td>\n",
       "      <td>4.0</td>\n",
       "      <td>4.0</td>\n",
       "      <td>2</td>\n",
       "      <td>False</td>\n",
       "      <td>4</td>\n",
       "      <td>München</td>\n",
       "      <td>Altstadt</td>\n",
       "      <td>Die Wohnung (OHNE Balkon !!) liegt im 4. OG (O...</td>\n",
       "      <td>- Eichenparkettboden im Wohn-EZ u. im Schlafzi...</td>\n",
       "      <td>Oct19</td>\n",
       "    </tr>\n",
       "    <tr>\n",
       "      <th>24</th>\n",
       "      <td>Hamburg</td>\n",
       "      <td>140.0</td>\n",
       "      <td>central_heating</td>\n",
       "      <td>ONE_YEAR_FREE</td>\n",
       "      <td>False</td>\n",
       "      <td>True</td>\n",
       "      <td>9</td>\n",
       "      <td>6.30</td>\n",
       "      <td>40.0</td>\n",
       "      <td>760.0</td>\n",
       "      <td>...</td>\n",
       "      <td>2.0</td>\n",
       "      <td>4.0</td>\n",
       "      <td>3</td>\n",
       "      <td>False</td>\n",
       "      <td>2</td>\n",
       "      <td>Hamburg</td>\n",
       "      <td>Horn</td>\n",
       "      <td>Freuen Sie sich auf diese grundsanierte Wohnun...</td>\n",
       "      <td>Kabelanschluss; Warmwasser zentral (über Heiza...</td>\n",
       "      <td>May19</td>\n",
       "    </tr>\n",
       "  </tbody>\n",
       "</table>\n",
       "<p>3 rows × 41 columns</p>\n",
       "</div>"
      ],
      "text/plain": [
       "               regio1  serviceCharge      heatingType telekomTvOffer  \\\n",
       "21  Baden_Württemberg            0.0              NaN  ONE_YEAR_FREE   \n",
       "23             Bayern          180.0  central_heating  ONE_YEAR_FREE   \n",
       "24            Hamburg          140.0  central_heating  ONE_YEAR_FREE   \n",
       "\n",
       "    newlyConst  balcony  picturecount  pricetrend  telekomUploadSpeed  \\\n",
       "21       False    False            13        5.63                40.0   \n",
       "23       False    False            18        4.47                10.0   \n",
       "24       False     True             9        6.30                40.0   \n",
       "\n",
       "    totalRent  ...  floor  numberOfFloors noRoomsRange  garden  \\\n",
       "21     1190.0  ...    3.0             NaN            1   False   \n",
       "23     2030.0  ...    4.0             4.0            2   False   \n",
       "24      760.0  ...    2.0             4.0            3   False   \n",
       "\n",
       "   livingSpaceRange     regio2         regio3  \\\n",
       "21                1  Stuttgart  Bad_Cannstatt   \n",
       "23                4    München       Altstadt   \n",
       "24                2    Hamburg           Horn   \n",
       "\n",
       "                                          description  \\\n",
       "21  Helle 3-Zimmer-Wohnung mit Galerie in Bad Cann...   \n",
       "23  Die Wohnung (OHNE Balkon !!) liegt im 4. OG (O...   \n",
       "24  Freuen Sie sich auf diese grundsanierte Wohnun...   \n",
       "\n",
       "                                           facilities   date  \n",
       "21  Backofen, Badewanne, Bett 1,40x2m, Bettwäsche,...  Oct19  \n",
       "23  - Eichenparkettboden im Wohn-EZ u. im Schlafzi...  Oct19  \n",
       "24  Kabelanschluss; Warmwasser zentral (über Heiza...  May19  \n",
       "\n",
       "[3 rows x 41 columns]"
      ]
     },
     "execution_count": 16,
     "metadata": {},
     "output_type": "execute_result"
    }
   ],
   "source": [
    "dfClean.head(3)"
   ]
  },
  {
   "cell_type": "code",
   "execution_count": 17,
   "metadata": {
    "colab": {
     "base_uri": "https://localhost:8080/",
     "height": 1000
    },
    "executionInfo": {
     "elapsed": 6,
     "status": "ok",
     "timestamp": 1645266148662,
     "user": {
      "displayName": "Felix",
      "photoUrl": "https://lh3.googleusercontent.com/a-/AOh14GiAwfxzvmRUyZnVZTTrD3x3jXEdBBIPlNSE668J=s64",
      "userId": "01747871621320100222"
     },
     "user_tz": -60
    },
    "id": "lRUidJWoMejh",
    "outputId": "61c5eac8-ef4d-45fe-ab7d-bcba803bd402"
   },
   "outputs": [
    {
     "data": {
      "text/html": [
       "<div>\n",
       "<style scoped>\n",
       "    .dataframe tbody tr th:only-of-type {\n",
       "        vertical-align: middle;\n",
       "    }\n",
       "\n",
       "    .dataframe tbody tr th {\n",
       "        vertical-align: top;\n",
       "    }\n",
       "\n",
       "    .dataframe thead th {\n",
       "        text-align: right;\n",
       "    }\n",
       "</style>\n",
       "<table border=\"1\" class=\"dataframe\">\n",
       "  <thead>\n",
       "    <tr style=\"text-align: right;\">\n",
       "      <th></th>\n",
       "      <th>Unique</th>\n",
       "    </tr>\n",
       "  </thead>\n",
       "  <tbody>\n",
       "    <tr>\n",
       "      <th>regio1</th>\n",
       "      <td>6</td>\n",
       "    </tr>\n",
       "    <tr>\n",
       "      <th>serviceCharge</th>\n",
       "      <td>2943</td>\n",
       "    </tr>\n",
       "    <tr>\n",
       "      <th>heatingType</th>\n",
       "      <td>14</td>\n",
       "    </tr>\n",
       "    <tr>\n",
       "      <th>telekomTvOffer</th>\n",
       "      <td>4</td>\n",
       "    </tr>\n",
       "    <tr>\n",
       "      <th>newlyConst</th>\n",
       "      <td>2</td>\n",
       "    </tr>\n",
       "    <tr>\n",
       "      <th>balcony</th>\n",
       "      <td>2</td>\n",
       "    </tr>\n",
       "    <tr>\n",
       "      <th>picturecount</th>\n",
       "      <td>68</td>\n",
       "    </tr>\n",
       "    <tr>\n",
       "      <th>pricetrend</th>\n",
       "      <td>687</td>\n",
       "    </tr>\n",
       "    <tr>\n",
       "      <th>telekomUploadSpeed</th>\n",
       "      <td>7</td>\n",
       "    </tr>\n",
       "    <tr>\n",
       "      <th>totalRent</th>\n",
       "      <td>5732</td>\n",
       "    </tr>\n",
       "    <tr>\n",
       "      <th>yearConstructed</th>\n",
       "      <td>169</td>\n",
       "    </tr>\n",
       "    <tr>\n",
       "      <th>scoutId</th>\n",
       "      <td>23523</td>\n",
       "    </tr>\n",
       "    <tr>\n",
       "      <th>firingTypes</th>\n",
       "      <td>58</td>\n",
       "    </tr>\n",
       "    <tr>\n",
       "      <th>hasKitchen</th>\n",
       "      <td>2</td>\n",
       "    </tr>\n",
       "    <tr>\n",
       "      <th>geo_bln</th>\n",
       "      <td>6</td>\n",
       "    </tr>\n",
       "    <tr>\n",
       "      <th>cellar</th>\n",
       "      <td>2</td>\n",
       "    </tr>\n",
       "    <tr>\n",
       "      <th>yearConstructedRange</th>\n",
       "      <td>10</td>\n",
       "    </tr>\n",
       "    <tr>\n",
       "      <th>baseRent</th>\n",
       "      <td>5486</td>\n",
       "    </tr>\n",
       "    <tr>\n",
       "      <th>houseNumber</th>\n",
       "      <td>1575</td>\n",
       "    </tr>\n",
       "    <tr>\n",
       "      <th>livingSpace</th>\n",
       "      <td>5611</td>\n",
       "    </tr>\n",
       "    <tr>\n",
       "      <th>geo_krs</th>\n",
       "      <td>6</td>\n",
       "    </tr>\n",
       "    <tr>\n",
       "      <th>condition</th>\n",
       "      <td>10</td>\n",
       "    </tr>\n",
       "    <tr>\n",
       "      <th>interiorQual</th>\n",
       "      <td>5</td>\n",
       "    </tr>\n",
       "    <tr>\n",
       "      <th>street</th>\n",
       "      <td>7954</td>\n",
       "    </tr>\n",
       "    <tr>\n",
       "      <th>streetPlain</th>\n",
       "      <td>8183</td>\n",
       "    </tr>\n",
       "    <tr>\n",
       "      <th>lift</th>\n",
       "      <td>2</td>\n",
       "    </tr>\n",
       "    <tr>\n",
       "      <th>baseRentRange</th>\n",
       "      <td>9</td>\n",
       "    </tr>\n",
       "    <tr>\n",
       "      <th>typeOfFlat</th>\n",
       "      <td>11</td>\n",
       "    </tr>\n",
       "    <tr>\n",
       "      <th>geo_plz</th>\n",
       "      <td>560</td>\n",
       "    </tr>\n",
       "    <tr>\n",
       "      <th>noRooms</th>\n",
       "      <td>16</td>\n",
       "    </tr>\n",
       "    <tr>\n",
       "      <th>thermalChar</th>\n",
       "      <td>2323</td>\n",
       "    </tr>\n",
       "    <tr>\n",
       "      <th>floor</th>\n",
       "      <td>23</td>\n",
       "    </tr>\n",
       "    <tr>\n",
       "      <th>numberOfFloors</th>\n",
       "      <td>22</td>\n",
       "    </tr>\n",
       "    <tr>\n",
       "      <th>noRoomsRange</th>\n",
       "      <td>5</td>\n",
       "    </tr>\n",
       "    <tr>\n",
       "      <th>garden</th>\n",
       "      <td>2</td>\n",
       "    </tr>\n",
       "    <tr>\n",
       "      <th>livingSpaceRange</th>\n",
       "      <td>7</td>\n",
       "    </tr>\n",
       "    <tr>\n",
       "      <th>regio2</th>\n",
       "      <td>6</td>\n",
       "    </tr>\n",
       "    <tr>\n",
       "      <th>regio3</th>\n",
       "      <td>390</td>\n",
       "    </tr>\n",
       "    <tr>\n",
       "      <th>description</th>\n",
       "      <td>19276</td>\n",
       "    </tr>\n",
       "    <tr>\n",
       "      <th>facilities</th>\n",
       "      <td>17611</td>\n",
       "    </tr>\n",
       "    <tr>\n",
       "      <th>date</th>\n",
       "      <td>4</td>\n",
       "    </tr>\n",
       "  </tbody>\n",
       "</table>\n",
       "</div>"
      ],
      "text/plain": [
       "                      Unique\n",
       "regio1                     6\n",
       "serviceCharge           2943\n",
       "heatingType               14\n",
       "telekomTvOffer             4\n",
       "newlyConst                 2\n",
       "balcony                    2\n",
       "picturecount              68\n",
       "pricetrend               687\n",
       "telekomUploadSpeed         7\n",
       "totalRent               5732\n",
       "yearConstructed          169\n",
       "scoutId                23523\n",
       "firingTypes               58\n",
       "hasKitchen                 2\n",
       "geo_bln                    6\n",
       "cellar                     2\n",
       "yearConstructedRange      10\n",
       "baseRent                5486\n",
       "houseNumber             1575\n",
       "livingSpace             5611\n",
       "geo_krs                    6\n",
       "condition                 10\n",
       "interiorQual               5\n",
       "street                  7954\n",
       "streetPlain             8183\n",
       "lift                       2\n",
       "baseRentRange              9\n",
       "typeOfFlat                11\n",
       "geo_plz                  560\n",
       "noRooms                   16\n",
       "thermalChar             2323\n",
       "floor                     23\n",
       "numberOfFloors            22\n",
       "noRoomsRange               5\n",
       "garden                     2\n",
       "livingSpaceRange           7\n",
       "regio2                     6\n",
       "regio3                   390\n",
       "description            19276\n",
       "facilities             17611\n",
       "date                       4"
      ]
     },
     "execution_count": 17,
     "metadata": {},
     "output_type": "execute_result"
    }
   ],
   "source": [
    "# Remove columns with unique values\n",
    "def getUniqueCount(df):\n",
    "  dfUniqs = pd.DataFrame({'uniques': []}, columns=df.columns)\n",
    "  for column in df.columns:\n",
    "      dfUniqs[column] = [len(df[column].unique())]\n",
    "  dfUniqs = dfUniqs.T\n",
    "  dfUniqs.columns = ['Unique']\n",
    "  return dfUniqs\n",
    "  \n",
    "\n",
    "val = getUniqueCount(dfClean)\n",
    "val"
   ]
  },
  {
   "cell_type": "code",
   "execution_count": 18,
   "metadata": {
    "colab": {
     "base_uri": "https://localhost:8080/",
     "height": 143
    },
    "executionInfo": {
     "elapsed": 342,
     "status": "ok",
     "timestamp": 1645266148999,
     "user": {
      "displayName": "Felix",
      "photoUrl": "https://lh3.googleusercontent.com/a-/AOh14GiAwfxzvmRUyZnVZTTrD3x3jXEdBBIPlNSE668J=s64",
      "userId": "01747871621320100222"
     },
     "user_tz": -60
    },
    "id": "DQ8CMSxqv5g-",
    "outputId": "fac6c203-4b25-40f3-94c3-81fc34c5d547"
   },
   "outputs": [
    {
     "data": {
      "text/html": [
       "<div>\n",
       "<style scoped>\n",
       "    .dataframe tbody tr th:only-of-type {\n",
       "        vertical-align: middle;\n",
       "    }\n",
       "\n",
       "    .dataframe tbody tr th {\n",
       "        vertical-align: top;\n",
       "    }\n",
       "\n",
       "    .dataframe thead th {\n",
       "        text-align: right;\n",
       "    }\n",
       "</style>\n",
       "<table border=\"1\" class=\"dataframe\">\n",
       "  <thead>\n",
       "    <tr style=\"text-align: right;\">\n",
       "      <th></th>\n",
       "      <th>scoutId</th>\n",
       "      <th>street</th>\n",
       "      <th>streetPlain</th>\n",
       "      <th>thermalChar</th>\n",
       "      <th>geo_plz</th>\n",
       "      <th>facilities</th>\n",
       "      <th>houseNumber</th>\n",
       "      <th>description</th>\n",
       "    </tr>\n",
       "  </thead>\n",
       "  <tbody>\n",
       "    <tr>\n",
       "      <th>21</th>\n",
       "      <td>113836264</td>\n",
       "      <td>no_information</td>\n",
       "      <td>NaN</td>\n",
       "      <td>NaN</td>\n",
       "      <td>70376</td>\n",
       "      <td>Backofen, Badewanne, Bett 1,40x2m, Bettwäsche,...</td>\n",
       "      <td>NaN</td>\n",
       "      <td>Helle 3-Zimmer-Wohnung mit Galerie in Bad Cann...</td>\n",
       "    </tr>\n",
       "    <tr>\n",
       "      <th>23</th>\n",
       "      <td>113626688</td>\n",
       "      <td>no_information</td>\n",
       "      <td>NaN</td>\n",
       "      <td>48.4</td>\n",
       "      <td>80331</td>\n",
       "      <td>- Eichenparkettboden im Wohn-EZ u. im Schlafzi...</td>\n",
       "      <td>NaN</td>\n",
       "      <td>Die Wohnung (OHNE Balkon !!) liegt im 4. OG (O...</td>\n",
       "    </tr>\n",
       "    <tr>\n",
       "      <th>24</th>\n",
       "      <td>111337159</td>\n",
       "      <td>B&amp;ouml;melburgweg</td>\n",
       "      <td>Bömelburgweg</td>\n",
       "      <td>142.0</td>\n",
       "      <td>22111</td>\n",
       "      <td>Kabelanschluss; Warmwasser zentral (über Heiza...</td>\n",
       "      <td>14</td>\n",
       "      <td>Freuen Sie sich auf diese grundsanierte Wohnun...</td>\n",
       "    </tr>\n",
       "  </tbody>\n",
       "</table>\n",
       "</div>"
      ],
      "text/plain": [
       "      scoutId             street   streetPlain  thermalChar  geo_plz  \\\n",
       "21  113836264     no_information           NaN          NaN    70376   \n",
       "23  113626688     no_information           NaN         48.4    80331   \n",
       "24  111337159  B&ouml;melburgweg  Bömelburgweg        142.0    22111   \n",
       "\n",
       "                                           facilities houseNumber  \\\n",
       "21  Backofen, Badewanne, Bett 1,40x2m, Bettwäsche,...         NaN   \n",
       "23  - Eichenparkettboden im Wohn-EZ u. im Schlafzi...         NaN   \n",
       "24  Kabelanschluss; Warmwasser zentral (über Heiza...          14   \n",
       "\n",
       "                                          description  \n",
       "21  Helle 3-Zimmer-Wohnung mit Galerie in Bad Cann...  \n",
       "23  Die Wohnung (OHNE Balkon !!) liegt im 4. OG (O...  \n",
       "24  Freuen Sie sich auf diese grundsanierte Wohnun...  "
      ]
     },
     "execution_count": 18,
     "metadata": {},
     "output_type": "execute_result"
    }
   ],
   "source": [
    "dfClean[['scoutId', 'street', 'streetPlain', 'thermalChar', 'geo_plz', \n",
    "         'facilities', 'houseNumber', 'description']].head(3)"
   ]
  },
  {
   "cell_type": "code",
   "execution_count": 19,
   "metadata": {
    "colab": {
     "base_uri": "https://localhost:8080/",
     "height": 207
    },
    "executionInfo": {
     "elapsed": 5,
     "status": "ok",
     "timestamp": 1645266148999,
     "user": {
      "displayName": "Felix",
      "photoUrl": "https://lh3.googleusercontent.com/a-/AOh14GiAwfxzvmRUyZnVZTTrD3x3jXEdBBIPlNSE668J=s64",
      "userId": "01747871621320100222"
     },
     "user_tz": -60
    },
    "id": "j-Tv-JyJvhJ_",
    "outputId": "11c06c9b-614c-45d9-e5e4-7a4f65965f74"
   },
   "outputs": [
    {
     "data": {
      "text/html": [
       "<div>\n",
       "<style scoped>\n",
       "    .dataframe tbody tr th:only-of-type {\n",
       "        vertical-align: middle;\n",
       "    }\n",
       "\n",
       "    .dataframe tbody tr th {\n",
       "        vertical-align: top;\n",
       "    }\n",
       "\n",
       "    .dataframe thead th {\n",
       "        text-align: right;\n",
       "    }\n",
       "</style>\n",
       "<table border=\"1\" class=\"dataframe\">\n",
       "  <thead>\n",
       "    <tr style=\"text-align: right;\">\n",
       "      <th></th>\n",
       "      <th>serviceCharge</th>\n",
       "      <th>heatingType</th>\n",
       "      <th>telekomTvOffer</th>\n",
       "      <th>newlyConst</th>\n",
       "      <th>balcony</th>\n",
       "      <th>picturecount</th>\n",
       "      <th>pricetrend</th>\n",
       "      <th>telekomUploadSpeed</th>\n",
       "      <th>totalRent</th>\n",
       "      <th>yearConstructed</th>\n",
       "      <th>...</th>\n",
       "      <th>typeOfFlat</th>\n",
       "      <th>noRooms</th>\n",
       "      <th>floor</th>\n",
       "      <th>numberOfFloors</th>\n",
       "      <th>noRoomsRange</th>\n",
       "      <th>garden</th>\n",
       "      <th>livingSpaceRange</th>\n",
       "      <th>regio2</th>\n",
       "      <th>regio3</th>\n",
       "      <th>date</th>\n",
       "    </tr>\n",
       "  </thead>\n",
       "  <tbody>\n",
       "    <tr>\n",
       "      <th>21</th>\n",
       "      <td>0.0</td>\n",
       "      <td>NaN</td>\n",
       "      <td>ONE_YEAR_FREE</td>\n",
       "      <td>False</td>\n",
       "      <td>False</td>\n",
       "      <td>13</td>\n",
       "      <td>5.63</td>\n",
       "      <td>40.0</td>\n",
       "      <td>1190.0</td>\n",
       "      <td>NaN</td>\n",
       "      <td>...</td>\n",
       "      <td>apartment</td>\n",
       "      <td>1.5</td>\n",
       "      <td>3.0</td>\n",
       "      <td>NaN</td>\n",
       "      <td>1</td>\n",
       "      <td>False</td>\n",
       "      <td>1</td>\n",
       "      <td>Stuttgart</td>\n",
       "      <td>Bad_Cannstatt</td>\n",
       "      <td>Oct19</td>\n",
       "    </tr>\n",
       "    <tr>\n",
       "      <th>23</th>\n",
       "      <td>180.0</td>\n",
       "      <td>central_heating</td>\n",
       "      <td>ONE_YEAR_FREE</td>\n",
       "      <td>False</td>\n",
       "      <td>False</td>\n",
       "      <td>18</td>\n",
       "      <td>4.47</td>\n",
       "      <td>10.0</td>\n",
       "      <td>2030.0</td>\n",
       "      <td>1871.0</td>\n",
       "      <td>...</td>\n",
       "      <td>apartment</td>\n",
       "      <td>2.0</td>\n",
       "      <td>4.0</td>\n",
       "      <td>4.0</td>\n",
       "      <td>2</td>\n",
       "      <td>False</td>\n",
       "      <td>4</td>\n",
       "      <td>München</td>\n",
       "      <td>Altstadt</td>\n",
       "      <td>Oct19</td>\n",
       "    </tr>\n",
       "    <tr>\n",
       "      <th>24</th>\n",
       "      <td>140.0</td>\n",
       "      <td>central_heating</td>\n",
       "      <td>ONE_YEAR_FREE</td>\n",
       "      <td>False</td>\n",
       "      <td>True</td>\n",
       "      <td>9</td>\n",
       "      <td>6.30</td>\n",
       "      <td>40.0</td>\n",
       "      <td>760.0</td>\n",
       "      <td>1953.0</td>\n",
       "      <td>...</td>\n",
       "      <td>apartment</td>\n",
       "      <td>3.0</td>\n",
       "      <td>2.0</td>\n",
       "      <td>4.0</td>\n",
       "      <td>3</td>\n",
       "      <td>False</td>\n",
       "      <td>2</td>\n",
       "      <td>Hamburg</td>\n",
       "      <td>Horn</td>\n",
       "      <td>May19</td>\n",
       "    </tr>\n",
       "  </tbody>\n",
       "</table>\n",
       "<p>3 rows × 32 columns</p>\n",
       "</div>"
      ],
      "text/plain": [
       "    serviceCharge      heatingType telekomTvOffer  newlyConst  balcony  \\\n",
       "21            0.0              NaN  ONE_YEAR_FREE       False    False   \n",
       "23          180.0  central_heating  ONE_YEAR_FREE       False    False   \n",
       "24          140.0  central_heating  ONE_YEAR_FREE       False     True   \n",
       "\n",
       "    picturecount  pricetrend  telekomUploadSpeed  totalRent  yearConstructed  \\\n",
       "21            13        5.63                40.0     1190.0              NaN   \n",
       "23            18        4.47                10.0     2030.0           1871.0   \n",
       "24             9        6.30                40.0      760.0           1953.0   \n",
       "\n",
       "    ... typeOfFlat  noRooms floor  numberOfFloors  noRoomsRange  garden  \\\n",
       "21  ...  apartment      1.5   3.0             NaN             1   False   \n",
       "23  ...  apartment      2.0   4.0             4.0             2   False   \n",
       "24  ...  apartment      3.0   2.0             4.0             3   False   \n",
       "\n",
       "    livingSpaceRange     regio2         regio3   date  \n",
       "21                 1  Stuttgart  Bad_Cannstatt  Oct19  \n",
       "23                 4    München       Altstadt  Oct19  \n",
       "24                 2    Hamburg           Horn  May19  \n",
       "\n",
       "[3 rows x 32 columns]"
      ]
     },
     "execution_count": 19,
     "metadata": {},
     "output_type": "execute_result"
    }
   ],
   "source": [
    "dfClean = dfClean.drop(['scoutId', 'regio1', 'street', 'streetPlain', \n",
    "                        'thermalChar', 'geo_plz', 'facilities', \n",
    "                        'houseNumber', 'description'], axis=1)\n",
    "dfClean.head(3)"
   ]
  },
  {
   "cell_type": "markdown",
   "metadata": {
    "id": "YpoMpuF1zcb6"
   },
   "source": [
    "Im weiteren Verlauf der Data Preparation können wir festellen, dass die Werte geo_krs und geo_bln identisch zu regio2 und somit entfernt werden können."
   ]
  },
  {
   "cell_type": "code",
   "execution_count": 20,
   "metadata": {
    "colab": {
     "base_uri": "https://localhost:8080/",
     "height": 207
    },
    "executionInfo": {
     "elapsed": 4,
     "status": "ok",
     "timestamp": 1645266148999,
     "user": {
      "displayName": "Felix",
      "photoUrl": "https://lh3.googleusercontent.com/a-/AOh14GiAwfxzvmRUyZnVZTTrD3x3jXEdBBIPlNSE668J=s64",
      "userId": "01747871621320100222"
     },
     "user_tz": -60
    },
    "id": "l4rpOm0AzMeH",
    "outputId": "0c5a747e-a70a-4103-bd1e-97f1fe969457"
   },
   "outputs": [
    {
     "data": {
      "text/html": [
       "<div>\n",
       "<style scoped>\n",
       "    .dataframe tbody tr th:only-of-type {\n",
       "        vertical-align: middle;\n",
       "    }\n",
       "\n",
       "    .dataframe tbody tr th {\n",
       "        vertical-align: top;\n",
       "    }\n",
       "\n",
       "    .dataframe thead th {\n",
       "        text-align: right;\n",
       "    }\n",
       "</style>\n",
       "<table border=\"1\" class=\"dataframe\">\n",
       "  <thead>\n",
       "    <tr style=\"text-align: right;\">\n",
       "      <th></th>\n",
       "      <th>serviceCharge</th>\n",
       "      <th>heatingType</th>\n",
       "      <th>telekomTvOffer</th>\n",
       "      <th>newlyConst</th>\n",
       "      <th>balcony</th>\n",
       "      <th>picturecount</th>\n",
       "      <th>pricetrend</th>\n",
       "      <th>telekomUploadSpeed</th>\n",
       "      <th>totalRent</th>\n",
       "      <th>yearConstructed</th>\n",
       "      <th>...</th>\n",
       "      <th>typeOfFlat</th>\n",
       "      <th>noRooms</th>\n",
       "      <th>floor</th>\n",
       "      <th>numberOfFloors</th>\n",
       "      <th>noRoomsRange</th>\n",
       "      <th>garden</th>\n",
       "      <th>livingSpaceRange</th>\n",
       "      <th>regio2</th>\n",
       "      <th>regio3</th>\n",
       "      <th>date</th>\n",
       "    </tr>\n",
       "  </thead>\n",
       "  <tbody>\n",
       "    <tr>\n",
       "      <th>21</th>\n",
       "      <td>0.0</td>\n",
       "      <td>NaN</td>\n",
       "      <td>ONE_YEAR_FREE</td>\n",
       "      <td>False</td>\n",
       "      <td>False</td>\n",
       "      <td>13</td>\n",
       "      <td>5.63</td>\n",
       "      <td>40.0</td>\n",
       "      <td>1190.0</td>\n",
       "      <td>NaN</td>\n",
       "      <td>...</td>\n",
       "      <td>apartment</td>\n",
       "      <td>1.5</td>\n",
       "      <td>3.0</td>\n",
       "      <td>NaN</td>\n",
       "      <td>1</td>\n",
       "      <td>False</td>\n",
       "      <td>1</td>\n",
       "      <td>Stuttgart</td>\n",
       "      <td>Bad_Cannstatt</td>\n",
       "      <td>Oct19</td>\n",
       "    </tr>\n",
       "    <tr>\n",
       "      <th>23</th>\n",
       "      <td>180.0</td>\n",
       "      <td>central_heating</td>\n",
       "      <td>ONE_YEAR_FREE</td>\n",
       "      <td>False</td>\n",
       "      <td>False</td>\n",
       "      <td>18</td>\n",
       "      <td>4.47</td>\n",
       "      <td>10.0</td>\n",
       "      <td>2030.0</td>\n",
       "      <td>1871.0</td>\n",
       "      <td>...</td>\n",
       "      <td>apartment</td>\n",
       "      <td>2.0</td>\n",
       "      <td>4.0</td>\n",
       "      <td>4.0</td>\n",
       "      <td>2</td>\n",
       "      <td>False</td>\n",
       "      <td>4</td>\n",
       "      <td>München</td>\n",
       "      <td>Altstadt</td>\n",
       "      <td>Oct19</td>\n",
       "    </tr>\n",
       "    <tr>\n",
       "      <th>24</th>\n",
       "      <td>140.0</td>\n",
       "      <td>central_heating</td>\n",
       "      <td>ONE_YEAR_FREE</td>\n",
       "      <td>False</td>\n",
       "      <td>True</td>\n",
       "      <td>9</td>\n",
       "      <td>6.30</td>\n",
       "      <td>40.0</td>\n",
       "      <td>760.0</td>\n",
       "      <td>1953.0</td>\n",
       "      <td>...</td>\n",
       "      <td>apartment</td>\n",
       "      <td>3.0</td>\n",
       "      <td>2.0</td>\n",
       "      <td>4.0</td>\n",
       "      <td>3</td>\n",
       "      <td>False</td>\n",
       "      <td>2</td>\n",
       "      <td>Hamburg</td>\n",
       "      <td>Horn</td>\n",
       "      <td>May19</td>\n",
       "    </tr>\n",
       "  </tbody>\n",
       "</table>\n",
       "<p>3 rows × 30 columns</p>\n",
       "</div>"
      ],
      "text/plain": [
       "    serviceCharge      heatingType telekomTvOffer  newlyConst  balcony  \\\n",
       "21            0.0              NaN  ONE_YEAR_FREE       False    False   \n",
       "23          180.0  central_heating  ONE_YEAR_FREE       False    False   \n",
       "24          140.0  central_heating  ONE_YEAR_FREE       False     True   \n",
       "\n",
       "    picturecount  pricetrend  telekomUploadSpeed  totalRent  yearConstructed  \\\n",
       "21            13        5.63                40.0     1190.0              NaN   \n",
       "23            18        4.47                10.0     2030.0           1871.0   \n",
       "24             9        6.30                40.0      760.0           1953.0   \n",
       "\n",
       "    ... typeOfFlat  noRooms  floor  numberOfFloors  noRoomsRange  garden  \\\n",
       "21  ...  apartment      1.5    3.0             NaN             1   False   \n",
       "23  ...  apartment      2.0    4.0             4.0             2   False   \n",
       "24  ...  apartment      3.0    2.0             4.0             3   False   \n",
       "\n",
       "   livingSpaceRange     regio2         regio3   date  \n",
       "21                1  Stuttgart  Bad_Cannstatt  Oct19  \n",
       "23                4    München       Altstadt  Oct19  \n",
       "24                2    Hamburg           Horn  May19  \n",
       "\n",
       "[3 rows x 30 columns]"
      ]
     },
     "execution_count": 20,
     "metadata": {},
     "output_type": "execute_result"
    }
   ],
   "source": [
    "dfClean = dfClean.drop(['geo_bln', 'geo_krs'], axis=1, errors='ignore')\n",
    "dfClean.head(3)"
   ]
  },
  {
   "cell_type": "code",
   "execution_count": 21,
   "metadata": {
    "colab": {
     "base_uri": "https://localhost:8080/",
     "height": 270
    },
    "executionInfo": {
     "elapsed": 3,
     "status": "ok",
     "timestamp": 1645266148999,
     "user": {
      "displayName": "Felix",
      "photoUrl": "https://lh3.googleusercontent.com/a-/AOh14GiAwfxzvmRUyZnVZTTrD3x3jXEdBBIPlNSE668J=s64",
      "userId": "01747871621320100222"
     },
     "user_tz": -60
    },
    "id": "WJm3DcB5-drJ",
    "outputId": "fa92f757-d121-4e93-dc0c-b5ed3d47f292"
   },
   "outputs": [
    {
     "data": {
      "text/html": [
       "<div>\n",
       "<style scoped>\n",
       "    .dataframe tbody tr th:only-of-type {\n",
       "        vertical-align: middle;\n",
       "    }\n",
       "\n",
       "    .dataframe tbody tr th {\n",
       "        vertical-align: top;\n",
       "    }\n",
       "\n",
       "    .dataframe thead th {\n",
       "        text-align: right;\n",
       "    }\n",
       "</style>\n",
       "<table border=\"1\" class=\"dataframe\">\n",
       "  <thead>\n",
       "    <tr style=\"text-align: right;\">\n",
       "      <th></th>\n",
       "      <th>serviceCharge</th>\n",
       "      <th>heatingType</th>\n",
       "      <th>telekomTvOffer</th>\n",
       "      <th>newlyConst</th>\n",
       "      <th>balcony</th>\n",
       "      <th>picturecount</th>\n",
       "      <th>pricetrend</th>\n",
       "      <th>telekomUploadSpeed</th>\n",
       "      <th>totalRent</th>\n",
       "      <th>yearConstructed</th>\n",
       "      <th>...</th>\n",
       "      <th>interiorQual</th>\n",
       "      <th>lift</th>\n",
       "      <th>typeOfFlat</th>\n",
       "      <th>noRooms</th>\n",
       "      <th>floor</th>\n",
       "      <th>numberOfFloors</th>\n",
       "      <th>garden</th>\n",
       "      <th>regio2</th>\n",
       "      <th>regio3</th>\n",
       "      <th>date</th>\n",
       "    </tr>\n",
       "  </thead>\n",
       "  <tbody>\n",
       "    <tr>\n",
       "      <th>21</th>\n",
       "      <td>0.0</td>\n",
       "      <td>NaN</td>\n",
       "      <td>ONE_YEAR_FREE</td>\n",
       "      <td>False</td>\n",
       "      <td>False</td>\n",
       "      <td>13</td>\n",
       "      <td>5.63</td>\n",
       "      <td>40.0</td>\n",
       "      <td>1190.0</td>\n",
       "      <td>NaN</td>\n",
       "      <td>...</td>\n",
       "      <td>NaN</td>\n",
       "      <td>False</td>\n",
       "      <td>apartment</td>\n",
       "      <td>1.5</td>\n",
       "      <td>3.0</td>\n",
       "      <td>NaN</td>\n",
       "      <td>False</td>\n",
       "      <td>Stuttgart</td>\n",
       "      <td>Bad_Cannstatt</td>\n",
       "      <td>Oct19</td>\n",
       "    </tr>\n",
       "    <tr>\n",
       "      <th>23</th>\n",
       "      <td>180.0</td>\n",
       "      <td>central_heating</td>\n",
       "      <td>ONE_YEAR_FREE</td>\n",
       "      <td>False</td>\n",
       "      <td>False</td>\n",
       "      <td>18</td>\n",
       "      <td>4.47</td>\n",
       "      <td>10.0</td>\n",
       "      <td>2030.0</td>\n",
       "      <td>1871.0</td>\n",
       "      <td>...</td>\n",
       "      <td>NaN</td>\n",
       "      <td>False</td>\n",
       "      <td>apartment</td>\n",
       "      <td>2.0</td>\n",
       "      <td>4.0</td>\n",
       "      <td>4.0</td>\n",
       "      <td>False</td>\n",
       "      <td>München</td>\n",
       "      <td>Altstadt</td>\n",
       "      <td>Oct19</td>\n",
       "    </tr>\n",
       "    <tr>\n",
       "      <th>24</th>\n",
       "      <td>140.0</td>\n",
       "      <td>central_heating</td>\n",
       "      <td>ONE_YEAR_FREE</td>\n",
       "      <td>False</td>\n",
       "      <td>True</td>\n",
       "      <td>9</td>\n",
       "      <td>6.30</td>\n",
       "      <td>40.0</td>\n",
       "      <td>760.0</td>\n",
       "      <td>1953.0</td>\n",
       "      <td>...</td>\n",
       "      <td>normal</td>\n",
       "      <td>False</td>\n",
       "      <td>apartment</td>\n",
       "      <td>3.0</td>\n",
       "      <td>2.0</td>\n",
       "      <td>4.0</td>\n",
       "      <td>False</td>\n",
       "      <td>Hamburg</td>\n",
       "      <td>Horn</td>\n",
       "      <td>May19</td>\n",
       "    </tr>\n",
       "    <tr>\n",
       "      <th>45</th>\n",
       "      <td>320.0</td>\n",
       "      <td>central_heating</td>\n",
       "      <td>NaN</td>\n",
       "      <td>False</td>\n",
       "      <td>True</td>\n",
       "      <td>10</td>\n",
       "      <td>4.99</td>\n",
       "      <td>NaN</td>\n",
       "      <td>1140.0</td>\n",
       "      <td>NaN</td>\n",
       "      <td>...</td>\n",
       "      <td>NaN</td>\n",
       "      <td>True</td>\n",
       "      <td>ground_floor</td>\n",
       "      <td>3.0</td>\n",
       "      <td>0.0</td>\n",
       "      <td>3.0</td>\n",
       "      <td>False</td>\n",
       "      <td>Berlin</td>\n",
       "      <td>Staaken_Spandau</td>\n",
       "      <td>Feb20</td>\n",
       "    </tr>\n",
       "    <tr>\n",
       "      <th>46</th>\n",
       "      <td>0.0</td>\n",
       "      <td>NaN</td>\n",
       "      <td>NaN</td>\n",
       "      <td>False</td>\n",
       "      <td>False</td>\n",
       "      <td>28</td>\n",
       "      <td>5.92</td>\n",
       "      <td>NaN</td>\n",
       "      <td>2190.0</td>\n",
       "      <td>1900.0</td>\n",
       "      <td>...</td>\n",
       "      <td>NaN</td>\n",
       "      <td>False</td>\n",
       "      <td>NaN</td>\n",
       "      <td>4.0</td>\n",
       "      <td>NaN</td>\n",
       "      <td>NaN</td>\n",
       "      <td>False</td>\n",
       "      <td>Frankfurt_am_Main</td>\n",
       "      <td>Nordend_West</td>\n",
       "      <td>May19</td>\n",
       "    </tr>\n",
       "  </tbody>\n",
       "</table>\n",
       "<p>5 rows × 26 columns</p>\n",
       "</div>"
      ],
      "text/plain": [
       "    serviceCharge      heatingType telekomTvOffer  newlyConst  balcony  \\\n",
       "21            0.0              NaN  ONE_YEAR_FREE       False    False   \n",
       "23          180.0  central_heating  ONE_YEAR_FREE       False    False   \n",
       "24          140.0  central_heating  ONE_YEAR_FREE       False     True   \n",
       "45          320.0  central_heating            NaN       False     True   \n",
       "46            0.0              NaN            NaN       False    False   \n",
       "\n",
       "    picturecount  pricetrend  telekomUploadSpeed  totalRent  yearConstructed  \\\n",
       "21            13        5.63                40.0     1190.0              NaN   \n",
       "23            18        4.47                10.0     2030.0           1871.0   \n",
       "24             9        6.30                40.0      760.0           1953.0   \n",
       "45            10        4.99                 NaN     1140.0              NaN   \n",
       "46            28        5.92                 NaN     2190.0           1900.0   \n",
       "\n",
       "    ... interiorQual   lift    typeOfFlat  noRooms  floor numberOfFloors  \\\n",
       "21  ...          NaN  False     apartment      1.5    3.0            NaN   \n",
       "23  ...          NaN  False     apartment      2.0    4.0            4.0   \n",
       "24  ...       normal  False     apartment      3.0    2.0            4.0   \n",
       "45  ...          NaN   True  ground_floor      3.0    0.0            3.0   \n",
       "46  ...          NaN  False           NaN      4.0    NaN            NaN   \n",
       "\n",
       "   garden             regio2           regio3   date  \n",
       "21  False          Stuttgart    Bad_Cannstatt  Oct19  \n",
       "23  False            München         Altstadt  Oct19  \n",
       "24  False            Hamburg             Horn  May19  \n",
       "45  False             Berlin  Staaken_Spandau  Feb20  \n",
       "46  False  Frankfurt_am_Main     Nordend_West  May19  \n",
       "\n",
       "[5 rows x 26 columns]"
      ]
     },
     "execution_count": 21,
     "metadata": {},
     "output_type": "execute_result"
    }
   ],
   "source": [
    "dfClean = dfClean.drop(['baseRentRange', 'yearConstructedRange', \n",
    "                        'noRoomsRange', 'livingSpaceRange'], axis=1)\n",
    "dfClean.head()"
   ]
  },
  {
   "cell_type": "markdown",
   "metadata": {
    "id": "IfMxHl0oAofN"
   },
   "source": [
    "Ebenfalls werden triviale Werte wie bespielsweise \"telekomTVoffer\" entfernt, da diese keine Relevanz für das weitere Vorgehen besitzen."
   ]
  },
  {
   "cell_type": "code",
   "execution_count": 22,
   "metadata": {
    "colab": {
     "base_uri": "https://localhost:8080/",
     "height": 207
    },
    "executionInfo": {
     "elapsed": 323,
     "status": "ok",
     "timestamp": 1645266149319,
     "user": {
      "displayName": "Felix",
      "photoUrl": "https://lh3.googleusercontent.com/a-/AOh14GiAwfxzvmRUyZnVZTTrD3x3jXEdBBIPlNSE668J=s64",
      "userId": "01747871621320100222"
     },
     "user_tz": -60
    },
    "id": "e9224tYH_9Pn",
    "outputId": "04196a85-7f19-4274-983c-37581048fd01"
   },
   "outputs": [
    {
     "data": {
      "text/html": [
       "<div>\n",
       "<style scoped>\n",
       "    .dataframe tbody tr th:only-of-type {\n",
       "        vertical-align: middle;\n",
       "    }\n",
       "\n",
       "    .dataframe tbody tr th {\n",
       "        vertical-align: top;\n",
       "    }\n",
       "\n",
       "    .dataframe thead th {\n",
       "        text-align: right;\n",
       "    }\n",
       "</style>\n",
       "<table border=\"1\" class=\"dataframe\">\n",
       "  <thead>\n",
       "    <tr style=\"text-align: right;\">\n",
       "      <th></th>\n",
       "      <th>serviceCharge</th>\n",
       "      <th>heatingType</th>\n",
       "      <th>newlyConst</th>\n",
       "      <th>balcony</th>\n",
       "      <th>picturecount</th>\n",
       "      <th>totalRent</th>\n",
       "      <th>yearConstructed</th>\n",
       "      <th>firingTypes</th>\n",
       "      <th>hasKitchen</th>\n",
       "      <th>cellar</th>\n",
       "      <th>...</th>\n",
       "      <th>interiorQual</th>\n",
       "      <th>lift</th>\n",
       "      <th>typeOfFlat</th>\n",
       "      <th>noRooms</th>\n",
       "      <th>floor</th>\n",
       "      <th>numberOfFloors</th>\n",
       "      <th>garden</th>\n",
       "      <th>regio2</th>\n",
       "      <th>regio3</th>\n",
       "      <th>date</th>\n",
       "    </tr>\n",
       "  </thead>\n",
       "  <tbody>\n",
       "    <tr>\n",
       "      <th>21</th>\n",
       "      <td>0.0</td>\n",
       "      <td>NaN</td>\n",
       "      <td>False</td>\n",
       "      <td>False</td>\n",
       "      <td>13</td>\n",
       "      <td>1190.0</td>\n",
       "      <td>NaN</td>\n",
       "      <td>NaN</td>\n",
       "      <td>False</td>\n",
       "      <td>False</td>\n",
       "      <td>...</td>\n",
       "      <td>NaN</td>\n",
       "      <td>False</td>\n",
       "      <td>apartment</td>\n",
       "      <td>1.5</td>\n",
       "      <td>3.0</td>\n",
       "      <td>NaN</td>\n",
       "      <td>False</td>\n",
       "      <td>Stuttgart</td>\n",
       "      <td>Bad_Cannstatt</td>\n",
       "      <td>Oct19</td>\n",
       "    </tr>\n",
       "    <tr>\n",
       "      <th>23</th>\n",
       "      <td>180.0</td>\n",
       "      <td>central_heating</td>\n",
       "      <td>False</td>\n",
       "      <td>False</td>\n",
       "      <td>18</td>\n",
       "      <td>2030.0</td>\n",
       "      <td>1871.0</td>\n",
       "      <td>district_heating</td>\n",
       "      <td>True</td>\n",
       "      <td>True</td>\n",
       "      <td>...</td>\n",
       "      <td>NaN</td>\n",
       "      <td>False</td>\n",
       "      <td>apartment</td>\n",
       "      <td>2.0</td>\n",
       "      <td>4.0</td>\n",
       "      <td>4.0</td>\n",
       "      <td>False</td>\n",
       "      <td>München</td>\n",
       "      <td>Altstadt</td>\n",
       "      <td>Oct19</td>\n",
       "    </tr>\n",
       "    <tr>\n",
       "      <th>24</th>\n",
       "      <td>140.0</td>\n",
       "      <td>central_heating</td>\n",
       "      <td>False</td>\n",
       "      <td>True</td>\n",
       "      <td>9</td>\n",
       "      <td>760.0</td>\n",
       "      <td>1953.0</td>\n",
       "      <td>district_heating</td>\n",
       "      <td>False</td>\n",
       "      <td>True</td>\n",
       "      <td>...</td>\n",
       "      <td>normal</td>\n",
       "      <td>False</td>\n",
       "      <td>apartment</td>\n",
       "      <td>3.0</td>\n",
       "      <td>2.0</td>\n",
       "      <td>4.0</td>\n",
       "      <td>False</td>\n",
       "      <td>Hamburg</td>\n",
       "      <td>Horn</td>\n",
       "      <td>May19</td>\n",
       "    </tr>\n",
       "  </tbody>\n",
       "</table>\n",
       "<p>3 rows × 23 columns</p>\n",
       "</div>"
      ],
      "text/plain": [
       "    serviceCharge      heatingType  newlyConst  balcony  picturecount  \\\n",
       "21            0.0              NaN       False    False            13   \n",
       "23          180.0  central_heating       False    False            18   \n",
       "24          140.0  central_heating       False     True             9   \n",
       "\n",
       "    totalRent  yearConstructed       firingTypes  hasKitchen  cellar  ...  \\\n",
       "21     1190.0              NaN               NaN       False   False  ...   \n",
       "23     2030.0           1871.0  district_heating        True    True  ...   \n",
       "24      760.0           1953.0  district_heating       False    True  ...   \n",
       "\n",
       "    interiorQual   lift typeOfFlat noRooms  floor numberOfFloors  garden  \\\n",
       "21           NaN  False  apartment     1.5    3.0            NaN   False   \n",
       "23           NaN  False  apartment     2.0    4.0            4.0   False   \n",
       "24        normal  False  apartment     3.0    2.0            4.0   False   \n",
       "\n",
       "       regio2         regio3   date  \n",
       "21  Stuttgart  Bad_Cannstatt  Oct19  \n",
       "23    München       Altstadt  Oct19  \n",
       "24    Hamburg           Horn  May19  \n",
       "\n",
       "[3 rows x 23 columns]"
      ]
     },
     "execution_count": 22,
     "metadata": {},
     "output_type": "execute_result"
    }
   ],
   "source": [
    "dfClean = dfClean.drop(['telekomUploadSpeed', 'pricetrend', \n",
    "                        'telekomTvOffer'], axis=1, errors='ignore')\n",
    "dfClean.head(3)"
   ]
  },
  {
   "cell_type": "code",
   "execution_count": 23,
   "metadata": {
    "id": "SwyfKoDniKw1"
   },
   "outputs": [],
   "source": [
    "dfClean = dfClean.drop(['picturecount'], axis=1)"
   ]
  },
  {
   "cell_type": "markdown",
   "metadata": {
    "id": "MT5OIk5UG1ii"
   },
   "source": [
    "### Fehlende Werte"
   ]
  },
  {
   "cell_type": "markdown",
   "metadata": {
    "id": "U_qs9RpGCbLK"
   },
   "source": [
    "Um fehlende Werte schnell zu identifizieren, kann eine Heatmap sehr hilfreich sein. Zudem werden Korrelationen zwischen den Merkmalen visualisiert. \n",
    "\n",
    "**Wichtig!** Merkmale vom Typ Objekt werden hier nicht visualisiert."
   ]
  },
  {
   "cell_type": "code",
   "execution_count": 24,
   "metadata": {
    "colab": {
     "base_uri": "https://localhost:8080/",
     "height": 736
    },
    "executionInfo": {
     "elapsed": 2521,
     "status": "ok",
     "timestamp": 1645266151838,
     "user": {
      "displayName": "Felix",
      "photoUrl": "https://lh3.googleusercontent.com/a-/AOh14GiAwfxzvmRUyZnVZTTrD3x3jXEdBBIPlNSE668J=s64",
      "userId": "01747871621320100222"
     },
     "user_tz": -60
    },
    "id": "uhnPTLmFHQr-",
    "outputId": "4dc23f1a-05fe-4137-c437-afa45e47ec33"
   },
   "outputs": [
    {
     "data": {
      "text/plain": [
       "<AxesSubplot:>"
      ]
     },
     "execution_count": 24,
     "metadata": {},
     "output_type": "execute_result"
    },
    {
     "data": {
      "image/png": "[encoded data removed]",
      "text/plain": [
       "<Figure size 864x864 with 2 Axes>"
      ]
     },
     "metadata": {
      "needs_background": "light"
     },
     "output_type": "display_data"
    }
   ],
   "source": [
    "f, ax = plt.subplots(figsize=(12, 12))\n",
    "sns.heatmap(dfClean.corr(), square = True, fmt='.2f', annot = True)"
   ]
  },
  {
   "cell_type": "code",
   "execution_count": 25,
   "metadata": {
    "colab": {
     "base_uri": "https://localhost:8080/",
     "height": 363
    },
    "executionInfo": {
     "elapsed": 8,
     "status": "ok",
     "timestamp": 1645266151838,
     "user": {
      "displayName": "Felix",
      "photoUrl": "https://lh3.googleusercontent.com/a-/AOh14GiAwfxzvmRUyZnVZTTrD3x3jXEdBBIPlNSE668J=s64",
      "userId": "01747871621320100222"
     },
     "user_tz": -60
    },
    "id": "lyM8ERH_GIZK",
    "outputId": "4cee3e0f-586c-4e8c-ef7f-2619443cbb22"
   },
   "outputs": [
    {
     "data": {
      "text/html": [
       "<div>\n",
       "<style scoped>\n",
       "    .dataframe tbody tr th:only-of-type {\n",
       "        vertical-align: middle;\n",
       "    }\n",
       "\n",
       "    .dataframe tbody tr th {\n",
       "        vertical-align: top;\n",
       "    }\n",
       "\n",
       "    .dataframe thead th {\n",
       "        text-align: right;\n",
       "    }\n",
       "</style>\n",
       "<table border=\"1\" class=\"dataframe\">\n",
       "  <thead>\n",
       "    <tr style=\"text-align: right;\">\n",
       "      <th></th>\n",
       "      <th>Total</th>\n",
       "      <th>Percent</th>\n",
       "    </tr>\n",
       "  </thead>\n",
       "  <tbody>\n",
       "    <tr>\n",
       "      <th>serviceCharge</th>\n",
       "      <td>22848</td>\n",
       "      <td>97.130468</td>\n",
       "    </tr>\n",
       "    <tr>\n",
       "      <th>totalRent</th>\n",
       "      <td>21265</td>\n",
       "      <td>90.400884</td>\n",
       "    </tr>\n",
       "    <tr>\n",
       "      <th>typeOfFlat</th>\n",
       "      <td>20922</td>\n",
       "      <td>88.942737</td>\n",
       "    </tr>\n",
       "    <tr>\n",
       "      <th>floor</th>\n",
       "      <td>19971</td>\n",
       "      <td>84.899885</td>\n",
       "    </tr>\n",
       "    <tr>\n",
       "      <th>heatingType</th>\n",
       "      <td>19334</td>\n",
       "      <td>82.191897</td>\n",
       "    </tr>\n",
       "    <tr>\n",
       "      <th>yearConstructed</th>\n",
       "      <td>19237</td>\n",
       "      <td>81.779535</td>\n",
       "    </tr>\n",
       "    <tr>\n",
       "      <th>condition</th>\n",
       "      <td>17982</td>\n",
       "      <td>76.444331</td>\n",
       "    </tr>\n",
       "    <tr>\n",
       "      <th>firingTypes</th>\n",
       "      <td>17921</td>\n",
       "      <td>76.185010</td>\n",
       "    </tr>\n",
       "    <tr>\n",
       "      <th>numberOfFloors</th>\n",
       "      <td>16289</td>\n",
       "      <td>69.247120</td>\n",
       "    </tr>\n",
       "    <tr>\n",
       "      <th>interiorQual</th>\n",
       "      <td>14066</td>\n",
       "      <td>59.796795</td>\n",
       "    </tr>\n",
       "  </tbody>\n",
       "</table>\n",
       "</div>"
      ],
      "text/plain": [
       "                 Total    Percent\n",
       "serviceCharge    22848  97.130468\n",
       "totalRent        21265  90.400884\n",
       "typeOfFlat       20922  88.942737\n",
       "floor            19971  84.899885\n",
       "heatingType      19334  82.191897\n",
       "yearConstructed  19237  81.779535\n",
       "condition        17982  76.444331\n",
       "firingTypes      17921  76.185010\n",
       "numberOfFloors   16289  69.247120\n",
       "interiorQual     14066  59.796795"
      ]
     },
     "execution_count": 25,
     "metadata": {},
     "output_type": "execute_result"
    }
   ],
   "source": [
    "percList = getAvailableValues(dfClean, len(dfClean.columns))\n",
    "percList = percList[percList['Percent'] < 100]\n",
    "percList\n",
    "\n"
   ]
  },
  {
   "cell_type": "markdown",
   "metadata": {
    "id": "QzFrZNW1L-AP"
   },
   "source": [
    "#### Warmmiete und Nebenkosten\n",
    "\n",
    "Hier zeigt sich die Auffälligkeit, dass eine sehr hohe Korrelation zwischen totalRent, baseRent und serviceCharge existiert. Bei der Überprüfung stellen wir fest, dass sich **totalRent** aus  **baseRent** + **serviceCharge** ergibt.\n",
    "\n",
    "Wir können also bei fehlenden Werten einen Wert aus den beiden anderen Werten kalkulieren, sofern diese vorhanden sind.\n"
   ]
  },
  {
   "cell_type": "code",
   "execution_count": 26,
   "metadata": {
    "colab": {
     "base_uri": "https://localhost:8080/"
    },
    "executionInfo": {
     "elapsed": 507,
     "status": "ok",
     "timestamp": 1645266152338,
     "user": {
      "displayName": "Felix",
      "photoUrl": "https://lh3.googleusercontent.com/a-/AOh14GiAwfxzvmRUyZnVZTTrD3x3jXEdBBIPlNSE668J=s64",
      "userId": "01747871621320100222"
     },
     "user_tz": -60
    },
    "id": "a2HZoWsZKjfA",
    "outputId": "33376cf8-568b-412c-97c6-041cd1940ef9"
   },
   "outputs": [
    {
     "data": {
      "text/plain": [
       "serviceCharge    675\n",
       "totalRent        171\n",
       "dtype: int64"
      ]
     },
     "execution_count": 26,
     "metadata": {},
     "output_type": "execute_result"
    }
   ],
   "source": [
    "dfClean.loc[ ((dfClean['totalRent'] >= dfClean['baseRent']) \n",
    "              & (dfClean['serviceCharge'].isnull() \n",
    "                 | dfClean['serviceCharge'] == 0)), \n",
    "            'serviceCharge'] = dfClean['totalRent'] - dfClean['baseRent']\n",
    "\n",
    "# Set totalRent if serviceCharge is not null or not 0 \n",
    "dfClean.loc[(dfClean['totalRent'].isnull() | (dfClean['totalRent'] == 0)) \n",
    "            & ~dfClean['serviceCharge'].isnull(), \n",
    "            'totalRent'] = dfClean['baseRent'] + dfClean['serviceCharge']\n",
    "# totalRent smaller than baseRent\n",
    "dfClean.loc[ (dfClean['totalRent'] < dfClean['baseRent']) \n",
    "            & ~dfClean['serviceCharge'].isnull(), \n",
    "            'totalRent'] = dfClean['baseRent'] + dfClean['serviceCharge']\n",
    "dfClean.loc[ (dfClean['totalRent'] < dfClean['baseRent']) \n",
    "            & dfClean['serviceCharge'].isnull(), \n",
    "            'totalRent'] = dfClean['baseRent']\n",
    "\n",
    "\n",
    "dfClean[['serviceCharge', 'totalRent']].isnull().sum()"
   ]
  },
  {
   "cell_type": "markdown",
   "metadata": {
    "id": "ZXVgdNXyaf-C"
   },
   "source": [
    "Einige Einträge haben keine serviceCharge und keinen totalPrice. In diesen Fällen wird serviceCarge mit 17% von baseRent berechnet. Das ist der durchschnittliche prozentuale Anteil der serviceCarge, basierend auf den vollständigen Daten."
   ]
  },
  {
   "cell_type": "code",
   "execution_count": 27,
   "metadata": {
    "colab": {
     "base_uri": "https://localhost:8080/"
    },
    "executionInfo": {
     "elapsed": 13,
     "status": "ok",
     "timestamp": 1645266152338,
     "user": {
      "displayName": "Felix",
      "photoUrl": "https://lh3.googleusercontent.com/a-/AOh14GiAwfxzvmRUyZnVZTTrD3x3jXEdBBIPlNSE668J=s64",
      "userId": "01747871621320100222"
     },
     "user_tz": -60
    },
    "id": "Nq1ni2Qz_XuM",
    "outputId": "b264251b-0077-457e-e2aa-6f56b500b5ee"
   },
   "outputs": [
    {
     "data": {
      "text/plain": [
       "0.16350048526683789"
      ]
     },
     "execution_count": 27,
     "metadata": {},
     "output_type": "execute_result"
    }
   ],
   "source": [
    "serviceCoeff = (dfClean['serviceCharge'].mean() / dfClean['baseRent'].mean())\n",
    "serviceCoeff"
   ]
  },
  {
   "cell_type": "code",
   "execution_count": 28,
   "metadata": {
    "colab": {
     "base_uri": "https://localhost:8080/"
    },
    "executionInfo": {
     "elapsed": 12,
     "status": "ok",
     "timestamp": 1645266152338,
     "user": {
      "displayName": "Felix",
      "photoUrl": "https://lh3.googleusercontent.com/a-/AOh14GiAwfxzvmRUyZnVZTTrD3x3jXEdBBIPlNSE668J=s64",
      "userId": "01747871621320100222"
     },
     "user_tz": -60
    },
    "id": "Gk9TSnSeP9IN",
    "outputId": "633cfbe6-a825-4c49-c45d-6e1f32fcd565"
   },
   "outputs": [
    {
     "data": {
      "text/plain": [
       "serviceCharge    0\n",
       "totalRent        0\n",
       "dtype: int64"
      ]
     },
     "execution_count": 28,
     "metadata": {},
     "output_type": "execute_result"
    }
   ],
   "source": [
    "# Calculate service coefficient and serviceCharge\n",
    "serviceCoeff = (dfClean['totalRent'].mean() / dfClean['baseRent'].mean()) - 1\n",
    "dfClean['serviceCharge'] = dfClean['serviceCharge'].fillna(\n",
    "    dfClean['baseRent'] + (dfClean['baseRent'] * serviceCoeff))\n",
    "\n",
    "# Recalculate totalRent after serviceCharge is set\n",
    "dfClean.loc[dfClean['totalRent'].isnull() | (dfClean['totalRent'] == 0), \n",
    "            'totalRent'] = dfClean['baseRent'] + dfClean['serviceCharge']\n",
    "\n",
    "dfClean[['serviceCharge', 'totalRent']].isnull().sum()"
   ]
  },
  {
   "cell_type": "code",
   "execution_count": 29,
   "metadata": {
    "colab": {
     "base_uri": "https://localhost:8080/"
    },
    "executionInfo": {
     "elapsed": 11,
     "status": "ok",
     "timestamp": 1645266152338,
     "user": {
      "displayName": "Felix",
      "photoUrl": "https://lh3.googleusercontent.com/a-/AOh14GiAwfxzvmRUyZnVZTTrD3x3jXEdBBIPlNSE668J=s64",
      "userId": "01747871621320100222"
     },
     "user_tz": -60
    },
    "id": "29KgyiF0M-tE",
    "outputId": "bb745c99-ff4b-418f-f317-1b31c8599241"
   },
   "outputs": [
    {
     "data": {
      "text/plain": [
       "apartment              13555\n",
       "ground_floor            2213\n",
       "roof_storey             2093\n",
       "maisonette               775\n",
       "other                    743\n",
       "raised_ground_floor      562\n",
       "terraced_flat            425\n",
       "penthouse                325\n",
       "half_basement            134\n",
       "loft                      97\n",
       "Name: typeOfFlat, dtype: int64"
      ]
     },
     "execution_count": 29,
     "metadata": {},
     "output_type": "execute_result"
    }
   ],
   "source": [
    "dfClean['typeOfFlat'].value_counts()"
   ]
  },
  {
   "cell_type": "markdown",
   "metadata": {
    "id": "GcVLa5LVRbzX"
   },
   "source": [
    "##### Wohnungstyp\n",
    "Es zeigt sich, dass bei Wohnungen floor=0 ausgegeben wird. Wir weisen diese Wohnungen dem Merkmal ground_floor zu.\n",
    "Außerdem ordnen wir \"apartment\" dem Rest der Nullwerte zu, da es den größten Anteil ausmacht."
   ]
  },
  {
   "cell_type": "code",
   "execution_count": 30,
   "metadata": {
    "id": "MpxUL5OzbV8z"
   },
   "outputs": [],
   "source": [
    "# we assign 'ground_floor' to all flats of floor zero that are missing\n",
    "dfClean.loc[dfClean['typeOfFlat'].isnull() & (dfClean['floor'] == 0), \n",
    "            'typeOfFlat'] = 'ground_floor'\n",
    "# we assing 'apartment to the rest' considering it consist of the biggest part\n",
    "dfClean['typeOfFlat'] = dfClean['typeOfFlat'].fillna('apartment') "
   ]
  },
  {
   "cell_type": "markdown",
   "metadata": {
    "id": "GS4L0BrSfQZK"
   },
   "source": [
    "##### Heizungsart"
   ]
  },
  {
   "cell_type": "code",
   "execution_count": 31,
   "metadata": {
    "id": "pO4osYfLQ3EI"
   },
   "outputs": [],
   "source": [
    "dfClean.loc[( (dfClean['firingTypes'] == 'district_heating') \n",
    "             & (dfClean['heatingType'].isnull()) ), \n",
    "            'heatingType'] = 'district_heating'\n",
    "dfClean.loc[( (dfClean['firingTypes'] == 'geothermal') \n",
    "             & (dfClean['heatingType'].isnull()) ), \n",
    "            'heatingType'] = 'heat_pump'\n",
    "\n",
    "dfClean['heatingType'] = dfClean['heatingType'].fillna('central_heating')\n",
    "\n",
    "dfClean = dfClean.drop(['firingTypes'], axis=1)"
   ]
  },
  {
   "cell_type": "markdown",
   "metadata": {
    "id": "ym1LgXe4Q2jI"
   },
   "source": [
    "**Baujahr**"
   ]
  },
  {
   "cell_type": "code",
   "execution_count": 32,
   "metadata": {
    "id": "H1-e79PrgUsj"
   },
   "outputs": [],
   "source": [
    "meanLiftYear = dfClean.loc[((dfClean[\"lift\"] == True) \n",
    "                            & dfClean[\"yearConstructed\"].notnull()), \n",
    "                           \"yearConstructed\"].mean()\n",
    "meanLiftYear = round(meanLiftYear, 0)\n",
    "meanLiftYear\n",
    "dfClean.loc[dfClean[\"yearConstructed\"].isnull() & dfClean[\"lift\"] == True, \n",
    "            \"yearConstructed\"] = meanLiftYear\n",
    "\n",
    "meanConstYear = round(dfClean[\"yearConstructed\"].mean(), 0)\n",
    "dfClean[\"yearConstructed\"] = dfClean[\"yearConstructed\"].fillna(meanConstYear)"
   ]
  },
  {
   "cell_type": "markdown",
   "metadata": {
    "id": "XIrhy6kxC7IC"
   },
   "source": [
    "##### Innere Qualität"
   ]
  },
  {
   "cell_type": "code",
   "execution_count": 33,
   "metadata": {
    "colab": {
     "base_uri": "https://localhost:8080/"
    },
    "executionInfo": {
     "elapsed": 10,
     "status": "ok",
     "timestamp": 1645266152339,
     "user": {
      "displayName": "Felix",
      "photoUrl": "https://lh3.googleusercontent.com/a-/AOh14GiAwfxzvmRUyZnVZTTrD3x3jXEdBBIPlNSE668J=s64",
      "userId": "01747871621320100222"
     },
     "user_tz": -60
    },
    "id": "LIiyZllEDUbG",
    "outputId": "f987cfa0-e789-4372-cb46-f84037f33456"
   },
   "outputs": [
    {
     "data": {
      "text/plain": [
       "interiorQual\n",
       "luxury           1503.210983\n",
       "normal            835.757759\n",
       "simple            754.629677\n",
       "sophisticated    1201.471595\n",
       "Name: baseRent, dtype: float64"
      ]
     },
     "execution_count": 33,
     "metadata": {},
     "output_type": "execute_result"
    }
   ],
   "source": [
    "iqMeans = dfClean.groupby('interiorQual')['baseRent'].mean()\n",
    "iqMeans"
   ]
  },
  {
   "cell_type": "code",
   "execution_count": 34,
   "metadata": {
    "id": "COzvGme4x9_m"
   },
   "outputs": [],
   "source": [
    "dfClean.loc[dfClean[\"interiorQual\"].isnull() \n",
    "            & (dfClean[\"baseRent\"] >= iqMeans['luxury']*0.9),\n",
    "            \"interiorQual\"] = \"luxury\"\n",
    "\n",
    "dfClean.loc[dfClean[\"interiorQual\"].isnull() \n",
    "            & (dfClean[\"baseRent\"] >= iqMeans['sophisticated']*0.9) \n",
    "            & (dfClean[\"baseRent\"] < iqMeans['luxury']*0.9),\n",
    "            \"interiorQual\"] = \"sophisticated\"\n",
    "\n",
    "dfClean.loc[(dfClean[\"interiorQual\"].isnull() \n",
    "        & (dfClean[\"baseRent\"] >= iqMeans['normal']*0.9) \n",
    "             & (dfClean[\"baseRent\"] < iqMeans['sophisticated']*0.9)),\n",
    "            \"interiorQual\"] = \"normal\"\n",
    "\n",
    "dfClean.loc[(dfClean[\"interiorQual\"].isnull() \n",
    "        & (dfClean[\"baseRent\"] >= iqMeans['simple']*0.9) \n",
    "             & (dfClean[\"baseRent\"] < iqMeans['normal']*0.9)),\n",
    "            \"interiorQual\"] = \"simple\"\n",
    "\n",
    "dfClean[\"interiorQual\"] = dfClean[\"interiorQual\"].fillna(\"normal\")"
   ]
  },
  {
   "cell_type": "markdown",
   "metadata": {
    "id": "XrqsysDAFW15"
   },
   "source": [
    "##### Wohnungszustand"
   ]
  },
  {
   "cell_type": "code",
   "execution_count": 35,
   "metadata": {
    "colab": {
     "base_uri": "https://localhost:8080/"
    },
    "executionInfo": {
     "elapsed": 9,
     "status": "ok",
     "timestamp": 1645266152339,
     "user": {
      "displayName": "Felix",
      "photoUrl": "https://lh3.googleusercontent.com/a-/AOh14GiAwfxzvmRUyZnVZTTrD3x3jXEdBBIPlNSE668J=s64",
      "userId": "01747871621320100222"
     },
     "user_tz": -60
    },
    "id": "xwQzFHwuRVw7",
    "outputId": "58cd1a18-59fa-46dc-986b-caa62742d738"
   },
   "outputs": [
    {
     "data": {
      "text/plain": [
       "well_kept                             4586\n",
       "first_time_use                        3101\n",
       "mint_condition                        3081\n",
       "fully_renovated                       1962\n",
       "modernized                            1912\n",
       "first_time_use_after_refurbishment    1891\n",
       "refurbished                           1250\n",
       "need_of_renovation                     103\n",
       "negotiable                              96\n",
       "Name: condition, dtype: int64"
      ]
     },
     "execution_count": 35,
     "metadata": {},
     "output_type": "execute_result"
    }
   ],
   "source": [
    "dfClean[\"condition\"].value_counts()"
   ]
  },
  {
   "cell_type": "code",
   "execution_count": 36,
   "metadata": {
    "colab": {
     "base_uri": "https://localhost:8080/"
    },
    "executionInfo": {
     "elapsed": 9,
     "status": "ok",
     "timestamp": 1645266152340,
     "user": {
      "displayName": "Felix",
      "photoUrl": "https://lh3.googleusercontent.com/a-/AOh14GiAwfxzvmRUyZnVZTTrD3x3jXEdBBIPlNSE668J=s64",
      "userId": "01747871621320100222"
     },
     "user_tz": -60
    },
    "id": "owqzn4v5E5MV",
    "outputId": "72e6e68c-a265-4b9b-b3d6-1fb075d8e937"
   },
   "outputs": [
    {
     "data": {
      "text/plain": [
       "condition\n",
       "first_time_use                        1291.780845\n",
       "first_time_use_after_refurbishment    1119.285457\n",
       "fully_renovated                       1066.344348\n",
       "mint_condition                        1264.888205\n",
       "modernized                             885.105476\n",
       "need_of_renovation                     718.937087\n",
       "negotiable                             975.430937\n",
       "refurbished                           1052.784376\n",
       "well_kept                              952.945133\n",
       "Name: baseRent, dtype: float64"
      ]
     },
     "execution_count": 36,
     "metadata": {},
     "output_type": "execute_result"
    }
   ],
   "source": [
    "conMeans = dfClean.groupby('condition')['baseRent'].mean()\n",
    "conMeans"
   ]
  },
  {
   "cell_type": "code",
   "execution_count": 37,
   "metadata": {
    "id": "i_FvR_OIFKOh"
   },
   "outputs": [],
   "source": [
    "dfClean.loc[(dfClean['newlyConst'] == True) & dfClean['condition'].isnull(), \n",
    "            'condition'] = 'first_time_use'\n",
    "\n",
    "dfClean.loc[(dfClean['newlyConst'] == False) \n",
    "& dfClean['condition'].isnull() \n",
    "            & (dfClean['baseRent'] >= conMeans['fully_renovated']), \n",
    "            'condition'] = 'fully_renovated'\n",
    "\n",
    "dfClean.loc[(dfClean['newlyConst'] == False) \n",
    "& dfClean['condition'].isnull() \n",
    "            & (dfClean[\"baseRent\"] < conMeans['need_of_renovation']), \n",
    "            'condition'] = 'need_of_renovation'\n",
    "\n",
    "dfClean['condition'] = dfClean['condition'].fillna('well_kept')\n"
   ]
  },
  {
   "cell_type": "markdown",
   "metadata": {
    "id": "6AWZOZlfRygn"
   },
   "source": [
    "##### Etage"
   ]
  },
  {
   "cell_type": "code",
   "execution_count": 38,
   "metadata": {
    "id": "L-vSMSzKRxnN"
   },
   "outputs": [],
   "source": [
    "# Basement = -1\n",
    "dfClean.loc[dfClean['floor'].isnull() \n",
    "            & (dfClean['typeOfFlat'] == 'half_basement'), 'floor'] = -1\n",
    "# Ground floor, raised ground floor = 0\n",
    "dfClean.loc[dfClean['typeOfFlat'].isin(['ground_floor', 'raised_ground_floor'])\n",
    "         & dfClean['floor'].isnull(), 'floor'] = 0\n",
    "dfClean.loc[dfClean['floor'].isnull() & (dfClean['garden'] == True), 'floor'] = 0\n",
    "# terraced flat, penthouse, roof_storey = numberOfFloors\n",
    "dfClean.loc[dfClean['floor'].isnull() & dfClean['typeOfFlat'].isin(\n",
    "    ['terraced_flat', 'penthouse', 'roof_storey']), \n",
    "            'floor'] = dfClean['numberOfFloors']\n",
    "# maisonette = numberOfFloors - 1\n",
    "dfClean.loc[dfClean['floor'].isnull() & (dfClean['typeOfFlat'] == 'maisonette'),\n",
    "            'floor'] = dfClean['numberOfFloors'] - 1\n",
    "# Set the rest to mean\n",
    "floorMean = dfClean['floor'].mean()  \n",
    "dfClean['floor'] = dfClean['floor'].fillna(floorMean)    \n",
    "dfClean.loc[(dfClean['floor'] > dfClean['numberOfFloors']), \n",
    "            'floor'] = dfClean['numberOfFloors']"
   ]
  },
  {
   "cell_type": "markdown",
   "metadata": {
    "id": "2-kbCBZWzPtj"
   },
   "source": [
    "##### Aufzug"
   ]
  },
  {
   "cell_type": "code",
   "execution_count": 39,
   "metadata": {
    "id": "xLgAkiJyJ373"
   },
   "outputs": [],
   "source": [
    "nfMeans = dfClean.loc[(dfClean['lift'] == True) & ~dfClean['numberOfFloors'].isnull(), \n",
    "                      ['numberOfFloors', 'floor']].mean()\n",
    "nfMean = round(nfMeans['numberOfFloors'], 0)\n",
    "fMean = round(nfMeans['floor'], 0)"
   ]
  },
  {
   "cell_type": "markdown",
   "metadata": {
    "id": "arYSazzbJkoc"
   },
   "source": [
    "##### Anzahl Geschosse"
   ]
  },
  {
   "cell_type": "code",
   "execution_count": 40,
   "metadata": {
    "id": "Ct61qrceMMpK"
   },
   "outputs": [],
   "source": [
    "dfClean.loc[dfClean['numberOfFloors'].isnull() & (dfClean['lift'] == True), \n",
    "            'numberOfFloors'] = max([nfMean, fMean])\n",
    "dfClean['numberOfFloors'] = dfClean['numberOfFloors'].fillna(\n",
    "    round(dfClean['numberOfFloors'].mean(), 0))\n",
    "dfClean.loc[(dfClean['numberOfFloors'] < dfClean['floor']), \n",
    "            'numberOfFloors'] = dfClean['floor']\n",
    "\n"
   ]
  },
  {
   "cell_type": "markdown",
   "metadata": {
    "id": "DYLVK8S3bNkB"
   },
   "source": [
    "Jetzt sind keine Nullwerte mehr vorhanden."
   ]
  },
  {
   "cell_type": "code",
   "execution_count": 41,
   "metadata": {
    "colab": {
     "base_uri": "https://localhost:8080/"
    },
    "executionInfo": {
     "elapsed": 7,
     "status": "ok",
     "timestamp": 1645266152340,
     "user": {
      "displayName": "Felix",
      "photoUrl": "https://lh3.googleusercontent.com/a-/AOh14GiAwfxzvmRUyZnVZTTrD3x3jXEdBBIPlNSE668J=s64",
      "userId": "01747871621320100222"
     },
     "user_tz": -60
    },
    "id": "TEcQTYMiasB3",
    "outputId": "20c7ec79-3078-4003-dcef-b81ff7c99866"
   },
   "outputs": [
    {
     "data": {
      "text/plain": [
       "serviceCharge      0\n",
       "heatingType        0\n",
       "newlyConst         0\n",
       "balcony            0\n",
       "totalRent          0\n",
       "yearConstructed    0\n",
       "hasKitchen         0\n",
       "cellar             0\n",
       "baseRent           0\n",
       "livingSpace        0\n",
       "condition          0\n",
       "interiorQual       0\n",
       "lift               0\n",
       "typeOfFlat         0\n",
       "noRooms            0\n",
       "floor              0\n",
       "numberOfFloors     0\n",
       "garden             0\n",
       "regio2             0\n",
       "regio3             0\n",
       "date               0\n",
       "dtype: int64"
      ]
     },
     "execution_count": 41,
     "metadata": {},
     "output_type": "execute_result"
    }
   ],
   "source": [
    "dfClean.isnull().sum()"
   ]
  },
  {
   "cell_type": "code",
   "execution_count": 42,
   "metadata": {
    "colab": {
     "base_uri": "https://localhost:8080/"
    },
    "executionInfo": {
     "elapsed": 8,
     "status": "ok",
     "timestamp": 1645266152341,
     "user": {
      "displayName": "Felix",
      "photoUrl": "https://lh3.googleusercontent.com/a-/AOh14GiAwfxzvmRUyZnVZTTrD3x3jXEdBBIPlNSE668J=s64",
      "userId": "01747871621320100222"
     },
     "user_tz": -60
    },
    "id": "KX_3t4gYbIlc",
    "outputId": "1225a077-ed67-409e-ad95-3bb70935be6b"
   },
   "outputs": [
    {
     "data": {
      "text/plain": [
       "Index(['serviceCharge', 'heatingType', 'newlyConst', 'balcony', 'totalRent',\n",
       "       'yearConstructed', 'hasKitchen', 'cellar', 'baseRent', 'livingSpace',\n",
       "       'condition', 'interiorQual', 'lift', 'typeOfFlat', 'noRooms', 'floor',\n",
       "       'numberOfFloors', 'garden', 'regio2', 'regio3', 'date'],\n",
       "      dtype='object')"
      ]
     },
     "execution_count": 42,
     "metadata": {},
     "output_type": "execute_result"
    }
   ],
   "source": [
    "dfClean.columns"
   ]
  },
  {
   "cell_type": "code",
   "execution_count": 43,
   "metadata": {
    "colab": {
     "base_uri": "https://localhost:8080/",
     "height": 736
    },
    "executionInfo": {
     "elapsed": 2174,
     "status": "ok",
     "timestamp": 1645266154508,
     "user": {
      "displayName": "Felix",
      "photoUrl": "https://lh3.googleusercontent.com/a-/AOh14GiAwfxzvmRUyZnVZTTrD3x3jXEdBBIPlNSE668J=s64",
      "userId": "01747871621320100222"
     },
     "user_tz": -60
    },
    "id": "TDLwijGEduAj",
    "outputId": "aae7b709-3e92-4033-c4ac-5d7742770250"
   },
   "outputs": [
    {
     "data": {
      "text/plain": [
       "<AxesSubplot:>"
      ]
     },
     "execution_count": 43,
     "metadata": {},
     "output_type": "execute_result"
    },
    {
     "data": {
      "image/png": "[encoded data removed]",
      "text/plain": [
       "<Figure size 864x864 with 2 Axes>"
      ]
     },
     "metadata": {
      "needs_background": "light"
     },
     "output_type": "display_data"
    }
   ],
   "source": [
    "f, ax = plt.subplots(figsize=(12, 12))\n",
    "sns.heatmap(dfClean.corr(), square = True, fmt='.2f', annot = True)"
   ]
  },
  {
   "cell_type": "markdown",
   "metadata": {
    "id": "8ygHYOLLHRsd"
   },
   "source": [
    "### Ungültige Werte"
   ]
  },
  {
   "cell_type": "code",
   "execution_count": 44,
   "metadata": {
    "colab": {
     "base_uri": "https://localhost:8080/"
    },
    "executionInfo": {
     "elapsed": 21,
     "status": "ok",
     "timestamp": 1645266154508,
     "user": {
      "displayName": "Felix",
      "photoUrl": "https://lh3.googleusercontent.com/a-/AOh14GiAwfxzvmRUyZnVZTTrD3x3jXEdBBIPlNSE668J=s64",
      "userId": "01747871621320100222"
     },
     "user_tz": -60
    },
    "id": "AgE7RlEAMwl1",
    "outputId": "c039d950-77a6-4f04-c9f7-5b78e6366b71"
   },
   "outputs": [
    {
     "name": "stdout",
     "output_type": "stream",
     "text": [
      "<class 'pandas.core.frame.DataFrame'>\n",
      "Int64Index: 23523 entries, 21 to 268849\n",
      "Data columns (total 21 columns):\n",
      " #   Column           Non-Null Count  Dtype  \n",
      "---  ------           --------------  -----  \n",
      " 0   serviceCharge    23523 non-null  float64\n",
      " 1   heatingType      23523 non-null  object \n",
      " 2   newlyConst       23523 non-null  bool   \n",
      " 3   balcony          23523 non-null  bool   \n",
      " 4   totalRent        23523 non-null  float64\n",
      " 5   yearConstructed  23523 non-null  float64\n",
      " 6   hasKitchen       23523 non-null  bool   \n",
      " 7   cellar           23523 non-null  bool   \n",
      " 8   baseRent         23523 non-null  float64\n",
      " 9   livingSpace      23523 non-null  float64\n",
      " 10  condition        23523 non-null  object \n",
      " 11  interiorQual     23523 non-null  object \n",
      " 12  lift             23523 non-null  bool   \n",
      " 13  typeOfFlat       23523 non-null  object \n",
      " 14  noRooms          23523 non-null  float64\n",
      " 15  floor            23523 non-null  float64\n",
      " 16  numberOfFloors   23523 non-null  float64\n",
      " 17  garden           23523 non-null  bool   \n",
      " 18  regio2           23523 non-null  object \n",
      " 19  regio3           23523 non-null  object \n",
      " 20  date             23523 non-null  object \n",
      "dtypes: bool(6), float64(8), object(7)\n",
      "memory usage: 3.5+ MB\n"
     ]
    }
   ],
   "source": [
    "dfClean.info()"
   ]
  },
  {
   "cell_type": "code",
   "execution_count": 45,
   "metadata": {
    "colab": {
     "base_uri": "https://localhost:8080/",
     "height": 300
    },
    "executionInfo": {
     "elapsed": 21,
     "status": "ok",
     "timestamp": 1645266154509,
     "user": {
      "displayName": "Felix",
      "photoUrl": "https://lh3.googleusercontent.com/a-/AOh14GiAwfxzvmRUyZnVZTTrD3x3jXEdBBIPlNSE668J=s64",
      "userId": "01747871621320100222"
     },
     "user_tz": -60
    },
    "id": "CiD9u0yDh7K6",
    "outputId": "407c295a-a15b-4d50-cccc-6c32974369dc"
   },
   "outputs": [
    {
     "data": {
      "text/html": [
       "<div>\n",
       "<style scoped>\n",
       "    .dataframe tbody tr th:only-of-type {\n",
       "        vertical-align: middle;\n",
       "    }\n",
       "\n",
       "    .dataframe tbody tr th {\n",
       "        vertical-align: top;\n",
       "    }\n",
       "\n",
       "    .dataframe thead th {\n",
       "        text-align: right;\n",
       "    }\n",
       "</style>\n",
       "<table border=\"1\" class=\"dataframe\">\n",
       "  <thead>\n",
       "    <tr style=\"text-align: right;\">\n",
       "      <th></th>\n",
       "      <th>serviceCharge</th>\n",
       "      <th>totalRent</th>\n",
       "      <th>yearConstructed</th>\n",
       "      <th>baseRent</th>\n",
       "      <th>livingSpace</th>\n",
       "      <th>noRooms</th>\n",
       "      <th>floor</th>\n",
       "      <th>numberOfFloors</th>\n",
       "    </tr>\n",
       "  </thead>\n",
       "  <tbody>\n",
       "    <tr>\n",
       "      <th>count</th>\n",
       "      <td>23523.000000</td>\n",
       "      <td>23523.000000</td>\n",
       "      <td>23523.00000</td>\n",
       "      <td>23523.000000</td>\n",
       "      <td>23523.000000</td>\n",
       "      <td>23523.000000</td>\n",
       "      <td>23523.000000</td>\n",
       "      <td>23523.000000</td>\n",
       "    </tr>\n",
       "    <tr>\n",
       "      <th>mean</th>\n",
       "      <td>210.587361</td>\n",
       "      <td>1299.416429</td>\n",
       "      <td>1974.90996</td>\n",
       "      <td>1087.003839</td>\n",
       "      <td>73.092628</td>\n",
       "      <td>2.423955</td>\n",
       "      <td>2.316505</td>\n",
       "      <td>4.742295</td>\n",
       "    </tr>\n",
       "    <tr>\n",
       "      <th>std</th>\n",
       "      <td>231.513744</td>\n",
       "      <td>628.808567</td>\n",
       "      <td>38.11072</td>\n",
       "      <td>460.317972</td>\n",
       "      <td>29.203886</td>\n",
       "      <td>0.944596</td>\n",
       "      <td>2.006456</td>\n",
       "      <td>2.125173</td>\n",
       "    </tr>\n",
       "    <tr>\n",
       "      <th>min</th>\n",
       "      <td>0.000000</td>\n",
       "      <td>272.400000</td>\n",
       "      <td>1805.00000</td>\n",
       "      <td>202.400000</td>\n",
       "      <td>20.000000</td>\n",
       "      <td>1.000000</td>\n",
       "      <td>-1.000000</td>\n",
       "      <td>0.000000</td>\n",
       "    </tr>\n",
       "    <tr>\n",
       "      <th>25%</th>\n",
       "      <td>110.000000</td>\n",
       "      <td>875.000000</td>\n",
       "      <td>1960.00000</td>\n",
       "      <td>710.000000</td>\n",
       "      <td>53.105000</td>\n",
       "      <td>2.000000</td>\n",
       "      <td>1.000000</td>\n",
       "      <td>4.000000</td>\n",
       "    </tr>\n",
       "    <tr>\n",
       "      <th>50%</th>\n",
       "      <td>170.000000</td>\n",
       "      <td>1230.000000</td>\n",
       "      <td>1975.00000</td>\n",
       "      <td>1024.000000</td>\n",
       "      <td>70.000000</td>\n",
       "      <td>2.000000</td>\n",
       "      <td>2.000000</td>\n",
       "      <td>5.000000</td>\n",
       "    </tr>\n",
       "    <tr>\n",
       "      <th>75%</th>\n",
       "      <td>242.525000</td>\n",
       "      <td>1650.000000</td>\n",
       "      <td>2009.00000</td>\n",
       "      <td>1400.000000</td>\n",
       "      <td>90.000000</td>\n",
       "      <td>3.000000</td>\n",
       "      <td>3.000000</td>\n",
       "      <td>6.000000</td>\n",
       "    </tr>\n",
       "    <tr>\n",
       "      <th>max</th>\n",
       "      <td>2611.349518</td>\n",
       "      <td>51570.000000</td>\n",
       "      <td>2019.00000</td>\n",
       "      <td>2200.000000</td>\n",
       "      <td>200.000000</td>\n",
       "      <td>7.000000</td>\n",
       "      <td>20.000000</td>\n",
       "      <td>20.000000</td>\n",
       "    </tr>\n",
       "  </tbody>\n",
       "</table>\n",
       "</div>"
      ],
      "text/plain": [
       "       serviceCharge     totalRent  yearConstructed      baseRent  \\\n",
       "count   23523.000000  23523.000000      23523.00000  23523.000000   \n",
       "mean      210.587361   1299.416429       1974.90996   1087.003839   \n",
       "std       231.513744    628.808567         38.11072    460.317972   \n",
       "min         0.000000    272.400000       1805.00000    202.400000   \n",
       "25%       110.000000    875.000000       1960.00000    710.000000   \n",
       "50%       170.000000   1230.000000       1975.00000   1024.000000   \n",
       "75%       242.525000   1650.000000       2009.00000   1400.000000   \n",
       "max      2611.349518  51570.000000       2019.00000   2200.000000   \n",
       "\n",
       "        livingSpace       noRooms         floor  numberOfFloors  \n",
       "count  23523.000000  23523.000000  23523.000000    23523.000000  \n",
       "mean      73.092628      2.423955      2.316505        4.742295  \n",
       "std       29.203886      0.944596      2.006456        2.125173  \n",
       "min       20.000000      1.000000     -1.000000        0.000000  \n",
       "25%       53.105000      2.000000      1.000000        4.000000  \n",
       "50%       70.000000      2.000000      2.000000        5.000000  \n",
       "75%       90.000000      3.000000      3.000000        6.000000  \n",
       "max      200.000000      7.000000     20.000000       20.000000  "
      ]
     },
     "execution_count": 45,
     "metadata": {},
     "output_type": "execute_result"
    }
   ],
   "source": [
    "dfClean.describe()"
   ]
  },
  {
   "cell_type": "markdown",
   "metadata": {
    "id": "lzcYvTzO-G6C"
   },
   "source": [
    "##### **Warmiete und Nebenkosten**"
   ]
  },
  {
   "cell_type": "markdown",
   "metadata": {
    "id": "ltb1pdZoCn0s"
   },
   "source": [
    "Es zeigt sich, dass es noch 0-Werte für Nebenkosten gibt. Diese Werte werden erneut berechnet."
   ]
  },
  {
   "cell_type": "code",
   "execution_count": 46,
   "metadata": {
    "colab": {
     "base_uri": "https://localhost:8080/"
    },
    "executionInfo": {
     "elapsed": 20,
     "status": "ok",
     "timestamp": 1645266154509,
     "user": {
      "displayName": "Felix",
      "photoUrl": "https://lh3.googleusercontent.com/a-/AOh14GiAwfxzvmRUyZnVZTTrD3x3jXEdBBIPlNSE668J=s64",
      "userId": "01747871621320100222"
     },
     "user_tz": -60
    },
    "id": "SYFi_Es6B4Vs",
    "outputId": "de46bfaf-2704-4973-d0a0-415e68ca1c38"
   },
   "outputs": [
    {
     "data": {
      "text/plain": [
       "1007"
      ]
     },
     "execution_count": 46,
     "metadata": {},
     "output_type": "execute_result"
    }
   ],
   "source": [
    "len(dfClean.loc[dfClean['serviceCharge'] == 0])"
   ]
  },
  {
   "cell_type": "code",
   "execution_count": 47,
   "metadata": {
    "colab": {
     "base_uri": "https://localhost:8080/"
    },
    "executionInfo": {
     "elapsed": 20,
     "status": "ok",
     "timestamp": 1645266154510,
     "user": {
      "displayName": "Felix",
      "photoUrl": "https://lh3.googleusercontent.com/a-/AOh14GiAwfxzvmRUyZnVZTTrD3x3jXEdBBIPlNSE668J=s64",
      "userId": "01747871621320100222"
     },
     "user_tz": -60
    },
    "id": "tAuzxfOFCfls",
    "outputId": "7336320e-5137-4065-c81a-e1bdeedfe1ee"
   },
   "outputs": [
    {
     "data": {
      "text/plain": [
       "0"
      ]
     },
     "execution_count": 47,
     "metadata": {},
     "output_type": "execute_result"
    }
   ],
   "source": [
    "dfClean.loc[dfClean['serviceCharge'] == 0, \n",
    "            'serviceCharge'] = serviceCoeff * dfClean['baseRent']\n",
    "len(dfClean.loc[dfClean['serviceCharge'] == 0])"
   ]
  },
  {
   "cell_type": "markdown",
   "metadata": {
    "id": "RZhJatNfEDeT"
   },
   "source": [
    "Dies wird ebenfalls für Wohnungen angewandt, bei denen die Nebenkosten die Kaltmiete übersteigen."
   ]
  },
  {
   "cell_type": "code",
   "execution_count": 48,
   "metadata": {
    "colab": {
     "base_uri": "https://localhost:8080/"
    },
    "executionInfo": {
     "elapsed": 19,
     "status": "ok",
     "timestamp": 1645266154510,
     "user": {
      "displayName": "Felix",
      "photoUrl": "https://lh3.googleusercontent.com/a-/AOh14GiAwfxzvmRUyZnVZTTrD3x3jXEdBBIPlNSE668J=s64",
      "userId": "01747871621320100222"
     },
     "user_tz": -60
    },
    "id": "GsOuyoVCD6XQ",
    "outputId": "92e6b65e-edff-465f-8371-6412ade3f70d"
   },
   "outputs": [
    {
     "data": {
      "text/plain": [
       "681"
      ]
     },
     "execution_count": 48,
     "metadata": {},
     "output_type": "execute_result"
    }
   ],
   "source": [
    "len(dfClean.loc[dfClean['serviceCharge'] > dfClean['baseRent']])"
   ]
  },
  {
   "cell_type": "code",
   "execution_count": 49,
   "metadata": {
    "colab": {
     "base_uri": "https://localhost:8080/"
    },
    "executionInfo": {
     "elapsed": 18,
     "status": "ok",
     "timestamp": 1645266154510,
     "user": {
      "displayName": "Felix",
      "photoUrl": "https://lh3.googleusercontent.com/a-/AOh14GiAwfxzvmRUyZnVZTTrD3x3jXEdBBIPlNSE668J=s64",
      "userId": "01747871621320100222"
     },
     "user_tz": -60
    },
    "id": "Z4VMPFWGDZQ2",
    "outputId": "5a92339c-0437-4ab3-8454-4377312cd94d"
   },
   "outputs": [
    {
     "data": {
      "text/plain": [
       "0"
      ]
     },
     "execution_count": 49,
     "metadata": {},
     "output_type": "execute_result"
    }
   ],
   "source": [
    "dfClean.loc[dfClean['serviceCharge'] > dfClean['baseRent'], \n",
    "            'serviceCharge'] = serviceCoeff * dfClean['baseRent']\n",
    "len(dfClean.loc[dfClean['serviceCharge'] > dfClean['baseRent']])"
   ]
  },
  {
   "cell_type": "code",
   "execution_count": 50,
   "metadata": {
    "colab": {
     "base_uri": "https://localhost:8080/"
    },
    "executionInfo": {
     "elapsed": 17,
     "status": "ok",
     "timestamp": 1645266154510,
     "user": {
      "displayName": "Felix",
      "photoUrl": "https://lh3.googleusercontent.com/a-/AOh14GiAwfxzvmRUyZnVZTTrD3x3jXEdBBIPlNSE668J=s64",
      "userId": "01747871621320100222"
     },
     "user_tz": -60
    },
    "id": "gT5UxWxWCR_W",
    "outputId": "3a7b3d0c-7aa7-4aa7-c448-2d9ac91519f8"
   },
   "outputs": [
    {
     "data": {
      "text/plain": [
       "1275"
      ]
     },
     "execution_count": 50,
     "metadata": {},
     "output_type": "execute_result"
    }
   ],
   "source": [
    "len(dfClean.loc[dfClean['totalRent'] == dfClean['baseRent']])"
   ]
  },
  {
   "cell_type": "code",
   "execution_count": 51,
   "metadata": {
    "colab": {
     "base_uri": "https://localhost:8080/"
    },
    "executionInfo": {
     "elapsed": 16,
     "status": "ok",
     "timestamp": 1645266154510,
     "user": {
      "displayName": "Felix",
      "photoUrl": "https://lh3.googleusercontent.com/a-/AOh14GiAwfxzvmRUyZnVZTTrD3x3jXEdBBIPlNSE668J=s64",
      "userId": "01747871621320100222"
     },
     "user_tz": -60
    },
    "id": "SqpnH5lQ-Fd1",
    "outputId": "bfc5107a-5e1d-464f-afc5-1a90917668ee"
   },
   "outputs": [
    {
     "data": {
      "text/plain": [
       "0"
      ]
     },
     "execution_count": 51,
     "metadata": {},
     "output_type": "execute_result"
    }
   ],
   "source": [
    "dfClean.loc[dfClean['totalRent'] == dfClean['baseRent'], \n",
    "            'totalRent'] = dfClean['baseRent'] + dfClean['serviceCharge']\n",
    "len(dfClean.loc[dfClean['totalRent'] == dfClean['baseRent']])"
   ]
  },
  {
   "cell_type": "code",
   "execution_count": 52,
   "metadata": {
    "colab": {
     "base_uri": "https://localhost:8080/",
     "height": 300
    },
    "executionInfo": {
     "elapsed": 17,
     "status": "ok",
     "timestamp": 1645266154511,
     "user": {
      "displayName": "Felix",
      "photoUrl": "https://lh3.googleusercontent.com/a-/AOh14GiAwfxzvmRUyZnVZTTrD3x3jXEdBBIPlNSE668J=s64",
      "userId": "01747871621320100222"
     },
     "user_tz": -60
    },
    "id": "6dbvUTu6LbDr",
    "outputId": "ed664f44-5974-4694-d452-105dd2d2691d"
   },
   "outputs": [
    {
     "data": {
      "text/html": [
       "<div>\n",
       "<style scoped>\n",
       "    .dataframe tbody tr th:only-of-type {\n",
       "        vertical-align: middle;\n",
       "    }\n",
       "\n",
       "    .dataframe tbody tr th {\n",
       "        vertical-align: top;\n",
       "    }\n",
       "\n",
       "    .dataframe thead th {\n",
       "        text-align: right;\n",
       "    }\n",
       "</style>\n",
       "<table border=\"1\" class=\"dataframe\">\n",
       "  <thead>\n",
       "    <tr style=\"text-align: right;\">\n",
       "      <th></th>\n",
       "      <th>baseRent</th>\n",
       "      <th>totalRent</th>\n",
       "    </tr>\n",
       "  </thead>\n",
       "  <tbody>\n",
       "    <tr>\n",
       "      <th>count</th>\n",
       "      <td>23523.000000</td>\n",
       "      <td>23523.000000</td>\n",
       "    </tr>\n",
       "    <tr>\n",
       "      <th>mean</th>\n",
       "      <td>1087.003839</td>\n",
       "      <td>1313.547497</td>\n",
       "    </tr>\n",
       "    <tr>\n",
       "      <th>std</th>\n",
       "      <td>460.317972</td>\n",
       "      <td>636.909253</td>\n",
       "    </tr>\n",
       "    <tr>\n",
       "      <th>min</th>\n",
       "      <td>202.400000</td>\n",
       "      <td>272.400000</td>\n",
       "    </tr>\n",
       "    <tr>\n",
       "      <th>25%</th>\n",
       "      <td>710.000000</td>\n",
       "      <td>879.520000</td>\n",
       "    </tr>\n",
       "    <tr>\n",
       "      <th>50%</th>\n",
       "      <td>1024.000000</td>\n",
       "      <td>1244.000000</td>\n",
       "    </tr>\n",
       "    <tr>\n",
       "      <th>75%</th>\n",
       "      <td>1400.000000</td>\n",
       "      <td>1682.000000</td>\n",
       "    </tr>\n",
       "    <tr>\n",
       "      <th>max</th>\n",
       "      <td>2200.000000</td>\n",
       "      <td>51570.000000</td>\n",
       "    </tr>\n",
       "  </tbody>\n",
       "</table>\n",
       "</div>"
      ],
      "text/plain": [
       "           baseRent     totalRent\n",
       "count  23523.000000  23523.000000\n",
       "mean    1087.003839   1313.547497\n",
       "std      460.317972    636.909253\n",
       "min      202.400000    272.400000\n",
       "25%      710.000000    879.520000\n",
       "50%     1024.000000   1244.000000\n",
       "75%     1400.000000   1682.000000\n",
       "max     2200.000000  51570.000000"
      ]
     },
     "execution_count": 52,
     "metadata": {},
     "output_type": "execute_result"
    }
   ],
   "source": [
    "dfClean[['baseRent', 'totalRent']].describe()"
   ]
  },
  {
   "cell_type": "code",
   "execution_count": 53,
   "metadata": {
    "colab": {
     "base_uri": "https://localhost:8080/"
    },
    "executionInfo": {
     "elapsed": 16,
     "status": "ok",
     "timestamp": 1645266154511,
     "user": {
      "displayName": "Felix",
      "photoUrl": "https://lh3.googleusercontent.com/a-/AOh14GiAwfxzvmRUyZnVZTTrD3x3jXEdBBIPlNSE668J=s64",
      "userId": "01747871621320100222"
     },
     "user_tz": -60
    },
    "id": "Tp-buGsaIeT_",
    "outputId": "2af2f41d-a251-4761-f663-5ae612a7aead"
   },
   "outputs": [
    {
     "data": {
      "text/plain": [
       "186"
      ]
     },
     "execution_count": 53,
     "metadata": {},
     "output_type": "execute_result"
    }
   ],
   "source": [
    "len(dfClean.loc[(dfClean['totalRent'] - dfClean['serviceCharge'] \n",
    "                 != dfClean['baseRent']) \n",
    "                & (dfClean['totalRent'] > (dfClean['baseRent']*2))])"
   ]
  },
  {
   "cell_type": "code",
   "execution_count": 54,
   "metadata": {
    "id": "_yJu67QBI1tR"
   },
   "outputs": [],
   "source": [
    "dfClean.loc[(dfClean['totalRent'] - dfClean['serviceCharge'] \n",
    "             != dfClean['baseRent']) \n",
    "            & (dfClean['totalRent'] > (dfClean['baseRent']*2)), \n",
    "            'totalRent'] = dfClean['baseRent'] * (1 + serviceCoeff) "
   ]
  },
  {
   "cell_type": "code",
   "execution_count": 55,
   "metadata": {
    "colab": {
     "base_uri": "https://localhost:8080/"
    },
    "executionInfo": {
     "elapsed": 15,
     "status": "ok",
     "timestamp": 1645266154511,
     "user": {
      "displayName": "Felix",
      "photoUrl": "https://lh3.googleusercontent.com/a-/AOh14GiAwfxzvmRUyZnVZTTrD3x3jXEdBBIPlNSE668J=s64",
      "userId": "01747871621320100222"
     },
     "user_tz": -60
    },
    "id": "4P90gz27OEva",
    "outputId": "bfe950af-dc1a-4928-b541-e80b214cb1dd"
   },
   "outputs": [
    {
     "data": {
      "text/plain": [
       "0"
      ]
     },
     "execution_count": 55,
     "metadata": {},
     "output_type": "execute_result"
    }
   ],
   "source": [
    "len(dfClean.loc[(dfClean['totalRent'] - dfClean['serviceCharge'] \n",
    "                 != dfClean['baseRent']) \n",
    "                & (dfClean['totalRent'] > (dfClean['baseRent']*2))])"
   ]
  },
  {
   "cell_type": "markdown",
   "metadata": {
    "id": "HyzpQVgd1Oyz"
   },
   "source": [
    "##### Wohnflache"
   ]
  },
  {
   "cell_type": "code",
   "execution_count": 56,
   "metadata": {
    "colab": {
     "base_uri": "https://localhost:8080/",
     "height": 300
    },
    "executionInfo": {
     "elapsed": 14,
     "status": "ok",
     "timestamp": 1645266154511,
     "user": {
      "displayName": "Felix",
      "photoUrl": "https://lh3.googleusercontent.com/a-/AOh14GiAwfxzvmRUyZnVZTTrD3x3jXEdBBIPlNSE668J=s64",
      "userId": "01747871621320100222"
     },
     "user_tz": -60
    },
    "id": "qt18gwLA1S_L",
    "outputId": "6e614922-c277-4592-c45c-cfaef463150e"
   },
   "outputs": [
    {
     "data": {
      "text/html": [
       "<div>\n",
       "<style scoped>\n",
       "    .dataframe tbody tr th:only-of-type {\n",
       "        vertical-align: middle;\n",
       "    }\n",
       "\n",
       "    .dataframe tbody tr th {\n",
       "        vertical-align: top;\n",
       "    }\n",
       "\n",
       "    .dataframe thead th {\n",
       "        text-align: right;\n",
       "    }\n",
       "</style>\n",
       "<table border=\"1\" class=\"dataframe\">\n",
       "  <thead>\n",
       "    <tr style=\"text-align: right;\">\n",
       "      <th></th>\n",
       "      <th>livingSpace</th>\n",
       "      <th>baseRent</th>\n",
       "    </tr>\n",
       "  </thead>\n",
       "  <tbody>\n",
       "    <tr>\n",
       "      <th>count</th>\n",
       "      <td>23523.000000</td>\n",
       "      <td>23523.000000</td>\n",
       "    </tr>\n",
       "    <tr>\n",
       "      <th>mean</th>\n",
       "      <td>73.092628</td>\n",
       "      <td>1087.003839</td>\n",
       "    </tr>\n",
       "    <tr>\n",
       "      <th>std</th>\n",
       "      <td>29.203886</td>\n",
       "      <td>460.317972</td>\n",
       "    </tr>\n",
       "    <tr>\n",
       "      <th>min</th>\n",
       "      <td>20.000000</td>\n",
       "      <td>202.400000</td>\n",
       "    </tr>\n",
       "    <tr>\n",
       "      <th>25%</th>\n",
       "      <td>53.105000</td>\n",
       "      <td>710.000000</td>\n",
       "    </tr>\n",
       "    <tr>\n",
       "      <th>50%</th>\n",
       "      <td>70.000000</td>\n",
       "      <td>1024.000000</td>\n",
       "    </tr>\n",
       "    <tr>\n",
       "      <th>75%</th>\n",
       "      <td>90.000000</td>\n",
       "      <td>1400.000000</td>\n",
       "    </tr>\n",
       "    <tr>\n",
       "      <th>max</th>\n",
       "      <td>200.000000</td>\n",
       "      <td>2200.000000</td>\n",
       "    </tr>\n",
       "  </tbody>\n",
       "</table>\n",
       "</div>"
      ],
      "text/plain": [
       "        livingSpace      baseRent\n",
       "count  23523.000000  23523.000000\n",
       "mean      73.092628   1087.003839\n",
       "std       29.203886    460.317972\n",
       "min       20.000000    202.400000\n",
       "25%       53.105000    710.000000\n",
       "50%       70.000000   1024.000000\n",
       "75%       90.000000   1400.000000\n",
       "max      200.000000   2200.000000"
      ]
     },
     "execution_count": 56,
     "metadata": {},
     "output_type": "execute_result"
    }
   ],
   "source": [
    "dfClean[['livingSpace', 'baseRent']].describe()"
   ]
  },
  {
   "cell_type": "markdown",
   "metadata": {
    "id": "JPEz9EnExoh8"
   },
   "source": [
    "##### **Heizungsart**"
   ]
  },
  {
   "cell_type": "code",
   "execution_count": 57,
   "metadata": {
    "colab": {
     "base_uri": "https://localhost:8080/"
    },
    "executionInfo": {
     "elapsed": 15,
     "status": "ok",
     "timestamp": 1645266154512,
     "user": {
      "displayName": "Felix",
      "photoUrl": "https://lh3.googleusercontent.com/a-/AOh14GiAwfxzvmRUyZnVZTTrD3x3jXEdBBIPlNSE668J=s64",
      "userId": "01747871621320100222"
     },
     "user_tz": -60
    },
    "id": "MnxKVkr9Ol6H",
    "outputId": "e9da74cd-b664-495a-a985-42eecefb9548"
   },
   "outputs": [
    {
     "data": {
      "text/plain": [
       "central_heating                   12946\n",
       "district_heating                   3734\n",
       "floor_heating                      2665\n",
       "self_contained_central_heating     1716\n",
       "gas_heating                        1397\n",
       "oil_heating                         347\n",
       "combined_heat_and_power_plant       274\n",
       "heat_pump                           168\n",
       "night_storage_heater                 83\n",
       "electric_heating                     81\n",
       "wood_pellet_heating                  63\n",
       "stove_heating                        26\n",
       "solar_heating                        23\n",
       "Name: heatingType, dtype: int64"
      ]
     },
     "execution_count": 57,
     "metadata": {},
     "output_type": "execute_result"
    }
   ],
   "source": [
    "dfClean['heatingType'].value_counts()"
   ]
  },
  {
   "cell_type": "markdown",
   "metadata": {
    "id": "t2rspJElxzTJ"
   },
   "source": [
    "#### Wohnungszustand"
   ]
  },
  {
   "cell_type": "code",
   "execution_count": 58,
   "metadata": {
    "colab": {
     "base_uri": "https://localhost:8080/"
    },
    "executionInfo": {
     "elapsed": 14,
     "status": "ok",
     "timestamp": 1645266154512,
     "user": {
      "displayName": "Felix",
      "photoUrl": "https://lh3.googleusercontent.com/a-/AOh14GiAwfxzvmRUyZnVZTTrD3x3jXEdBBIPlNSE668J=s64",
      "userId": "01747871621320100222"
     },
     "user_tz": -60
    },
    "id": "-TgAGmTAMz4C",
    "outputId": "5e9a0b56-162d-4e4e-f26e-b5a14569755a"
   },
   "outputs": [
    {
     "data": {
      "text/plain": [
       "well_kept                             5836\n",
       "fully_renovated                       4294\n",
       "first_time_use                        3583\n",
       "mint_condition                        3081\n",
       "modernized                            1912\n",
       "first_time_use_after_refurbishment    1891\n",
       "need_of_renovation                    1580\n",
       "refurbished                           1250\n",
       "negotiable                              96\n",
       "Name: condition, dtype: int64"
      ]
     },
     "execution_count": 58,
     "metadata": {},
     "output_type": "execute_result"
    }
   ],
   "source": [
    "dfClean['condition'].value_counts()"
   ]
  },
  {
   "cell_type": "markdown",
   "metadata": {
    "id": "VRfvwFqlR_pi"
   },
   "source": [
    "Der Zustand \"negotiable\" ist nicht relevant. Daher wird dieser Wert durch einen auf der Innenausstattung basierenden Wert ersetzt.\n"
   ]
  },
  {
   "cell_type": "code",
   "execution_count": 59,
   "metadata": {
    "colab": {
     "base_uri": "https://localhost:8080/"
    },
    "executionInfo": {
     "elapsed": 14,
     "status": "ok",
     "timestamp": 1645266154513,
     "user": {
      "displayName": "Felix",
      "photoUrl": "https://lh3.googleusercontent.com/a-/AOh14GiAwfxzvmRUyZnVZTTrD3x3jXEdBBIPlNSE668J=s64",
      "userId": "01747871621320100222"
     },
     "user_tz": -60
    },
    "id": "XFfkJ44iOtdB",
    "outputId": "67137ea7-839e-4f8e-ee14-40cc4109cb8d"
   },
   "outputs": [
    {
     "data": {
      "text/plain": [
       "normal           58\n",
       "sophisticated    25\n",
       "simple            8\n",
       "luxury            5\n",
       "Name: interiorQual, dtype: int64"
      ]
     },
     "execution_count": 59,
     "metadata": {},
     "output_type": "execute_result"
    }
   ],
   "source": [
    "dfClean.loc[dfClean['condition'] == 'negotiable', 'interiorQual'].value_counts()"
   ]
  },
  {
   "cell_type": "code",
   "execution_count": 60,
   "metadata": {
    "id": "S1XgqaXlP6OX"
   },
   "outputs": [],
   "source": [
    "dfClean.loc[(dfClean['condition'] == 'negotiable') \n",
    "            & (dfClean['interiorQual'] == 'luxury'), \n",
    "            'condition'] = 'fully_renovated'\n",
    "\n",
    "dfClean.loc[(dfClean['condition'] == 'negotiable') \n",
    "            & (dfClean['interiorQual'] == 'sophisticated'), \n",
    "            'condition'] = 'modernized'\n",
    "\n",
    "dfClean.loc[(dfClean['condition'] == 'negotiable') \n",
    "            & (dfClean['interiorQual'] == 'normal'), \n",
    "            'condition'] = 'well_kept'\n",
    "\n",
    "dfClean.loc[(dfClean['condition'] == 'negotiable') \n",
    "            & (dfClean['interiorQual'] == 'simple'), \n",
    "            'condition'] = 'need_of_renovation'"
   ]
  },
  {
   "cell_type": "markdown",
   "metadata": {
    "id": "sqOLjNPUy8tc"
   },
   "source": [
    "##### Innere Qualität"
   ]
  },
  {
   "cell_type": "code",
   "execution_count": 61,
   "metadata": {
    "colab": {
     "base_uri": "https://localhost:8080/"
    },
    "executionInfo": {
     "elapsed": 13,
     "status": "ok",
     "timestamp": 1645266154513,
     "user": {
      "displayName": "Felix",
      "photoUrl": "https://lh3.googleusercontent.com/a-/AOh14GiAwfxzvmRUyZnVZTTrD3x3jXEdBBIPlNSE668J=s64",
      "userId": "01747871621320100222"
     },
     "user_tz": -60
    },
    "id": "6YZ2Oy8MTR-U",
    "outputId": "ca3e43e6-fa69-41bb-b7b3-aedc0c573b6d"
   },
   "outputs": [
    {
     "data": {
      "text/plain": [
       "sophisticated    10137\n",
       "normal            8872\n",
       "luxury            3722\n",
       "simple             792\n",
       "Name: interiorQual, dtype: int64"
      ]
     },
     "execution_count": 61,
     "metadata": {},
     "output_type": "execute_result"
    }
   ],
   "source": [
    "dfClean['interiorQual'].value_counts()"
   ]
  },
  {
   "cell_type": "markdown",
   "metadata": {
    "id": "JhoZDna3zA1L"
   },
   "source": [
    "##### Wohnungstype"
   ]
  },
  {
   "cell_type": "code",
   "execution_count": 62,
   "metadata": {
    "colab": {
     "base_uri": "https://localhost:8080/"
    },
    "executionInfo": {
     "elapsed": 12,
     "status": "ok",
     "timestamp": 1645266154513,
     "user": {
      "displayName": "Felix",
      "photoUrl": "https://lh3.googleusercontent.com/a-/AOh14GiAwfxzvmRUyZnVZTTrD3x3jXEdBBIPlNSE668J=s64",
      "userId": "01747871621320100222"
     },
     "user_tz": -60
    },
    "id": "Od-LXg53Th4c",
    "outputId": "37cd03ad-9e63-4c10-bc98-7d60a11885b7"
   },
   "outputs": [
    {
     "data": {
      "text/plain": [
       "apartment              15992\n",
       "ground_floor            2377\n",
       "roof_storey             2093\n",
       "maisonette               775\n",
       "other                    743\n",
       "raised_ground_floor      562\n",
       "terraced_flat            425\n",
       "penthouse                325\n",
       "half_basement            134\n",
       "loft                      97\n",
       "Name: typeOfFlat, dtype: int64"
      ]
     },
     "execution_count": 62,
     "metadata": {},
     "output_type": "execute_result"
    }
   ],
   "source": [
    "dfClean['typeOfFlat'].value_counts()"
   ]
  },
  {
   "cell_type": "markdown",
   "metadata": {
    "id": "jF2Mc_7Efbyb"
   },
   "source": [
    "### Mehr unnötige Werte"
   ]
  },
  {
   "cell_type": "markdown",
   "metadata": {
    "id": "FeYZ3TtlgReT"
   },
   "source": [
    "**Wohnungstyp**"
   ]
  },
  {
   "cell_type": "code",
   "execution_count": 63,
   "metadata": {
    "id": "MRp13jGOfeij"
   },
   "outputs": [],
   "source": [
    "dfClean = dfClean.loc[dfClean['typeOfFlat'].isin(\n",
    "    ['apartment', 'ground_floor', 'roof_storey', 'maisonette'])]"
   ]
  },
  {
   "cell_type": "markdown",
   "metadata": {
    "id": "82hOPoCBgPyP"
   },
   "source": [
    "**Heizungstyp**"
   ]
  },
  {
   "cell_type": "code",
   "execution_count": 64,
   "metadata": {
    "id": "OnNblLiLfz5W"
   },
   "outputs": [],
   "source": [
    "dfClean = dfClean.loc[dfClean['heatingType'].isin(\n",
    "    ['central_heating', 'district_heating', 'floor_heating'])]   "
   ]
  },
  {
   "cell_type": "markdown",
   "metadata": {
    "id": "VTJ4FzYphJzf"
   },
   "source": []
  },
  {
   "cell_type": "code",
   "execution_count": 65,
   "metadata": {
    "id": "q1RgJy-Thf0r"
   },
   "outputs": [],
   "source": [
    "dfClean = dfClean.drop(['condition'], axis=1)"
   ]
  },
  {
   "cell_type": "code",
   "execution_count": 66,
   "metadata": {
    "id": "G9uWe97C806i"
   },
   "outputs": [],
   "source": [
    "dfClean = dfClean.drop(['numberOfFloors'], axis=1)"
   ]
  },
  {
   "cell_type": "markdown",
   "metadata": {
    "id": "oJpBBOKetjRg"
   },
   "source": [
    "### Bereinigte Daten speichern "
   ]
  },
  {
   "cell_type": "code",
   "execution_count": 67,
   "metadata": {
    "colab": {
     "base_uri": "https://localhost:8080/"
    },
    "executionInfo": {
     "elapsed": 6,
     "status": "ok",
     "timestamp": 1645266154986,
     "user": {
      "displayName": "Felix",
      "photoUrl": "https://lh3.googleusercontent.com/a-/AOh14GiAwfxzvmRUyZnVZTTrD3x3jXEdBBIPlNSE668J=s64",
      "userId": "01747871621320100222"
     },
     "user_tz": -60
    },
    "id": "3ti9tRvnpwK2",
    "outputId": "fe2789e4-5522-49f4-d44d-f802206258a5"
   },
   "outputs": [
    {
     "data": {
      "text/plain": [
       "(17554, 19)"
      ]
     },
     "execution_count": 67,
     "metadata": {},
     "output_type": "execute_result"
    }
   ],
   "source": [
    "dfClean.shape"
   ]
  },
  {
   "cell_type": "code",
   "execution_count": 68,
   "metadata": {
    "id": "njEyT6Eytti6"
   },
   "outputs": [],
   "source": [
    "dfClean.to_pickle('data/immo_data_prepared_clean.pkl')"
   ]
  },
  {
   "cell_type": "code",
   "execution_count": 69,
   "metadata": {
    "colab": {
     "base_uri": "https://localhost:8080/",
     "height": 300
    },
    "executionInfo": {
     "elapsed": 6,
     "status": "ok",
     "timestamp": 1645266154987,
     "user": {
      "displayName": "Felix",
      "photoUrl": "https://lh3.googleusercontent.com/a-/AOh14GiAwfxzvmRUyZnVZTTrD3x3jXEdBBIPlNSE668J=s64",
      "userId": "01747871621320100222"
     },
     "user_tz": -60
    },
    "id": "wB7CbDIfyN3j",
    "outputId": "a52ebda3-da4d-471a-fd52-46bded52ec41"
   },
   "outputs": [
    {
     "data": {
      "text/html": [
       "<div>\n",
       "<style scoped>\n",
       "    .dataframe tbody tr th:only-of-type {\n",
       "        vertical-align: middle;\n",
       "    }\n",
       "\n",
       "    .dataframe tbody tr th {\n",
       "        vertical-align: top;\n",
       "    }\n",
       "\n",
       "    .dataframe thead th {\n",
       "        text-align: right;\n",
       "    }\n",
       "</style>\n",
       "<table border=\"1\" class=\"dataframe\">\n",
       "  <thead>\n",
       "    <tr style=\"text-align: right;\">\n",
       "      <th></th>\n",
       "      <th>serviceCharge</th>\n",
       "      <th>totalRent</th>\n",
       "      <th>yearConstructed</th>\n",
       "      <th>baseRent</th>\n",
       "      <th>livingSpace</th>\n",
       "      <th>noRooms</th>\n",
       "      <th>floor</th>\n",
       "    </tr>\n",
       "  </thead>\n",
       "  <tbody>\n",
       "    <tr>\n",
       "      <th>count</th>\n",
       "      <td>17554.000000</td>\n",
       "      <td>17554.000000</td>\n",
       "      <td>17554.000000</td>\n",
       "      <td>17554.000000</td>\n",
       "      <td>17554.000000</td>\n",
       "      <td>17554.000000</td>\n",
       "      <td>17554.000000</td>\n",
       "    </tr>\n",
       "    <tr>\n",
       "      <th>mean</th>\n",
       "      <td>193.918768</td>\n",
       "      <td>1310.526878</td>\n",
       "      <td>1978.274183</td>\n",
       "      <td>1088.904103</td>\n",
       "      <td>72.219166</td>\n",
       "      <td>2.404688</td>\n",
       "      <td>2.435918</td>\n",
       "    </tr>\n",
       "    <tr>\n",
       "      <th>std</th>\n",
       "      <td>92.877172</td>\n",
       "      <td>529.234558</td>\n",
       "      <td>36.556268</td>\n",
       "      <td>463.012890</td>\n",
       "      <td>28.900965</td>\n",
       "      <td>0.946582</td>\n",
       "      <td>2.045514</td>\n",
       "    </tr>\n",
       "    <tr>\n",
       "      <th>min</th>\n",
       "      <td>1.000000</td>\n",
       "      <td>272.400000</td>\n",
       "      <td>1805.000000</td>\n",
       "      <td>202.400000</td>\n",
       "      <td>20.000000</td>\n",
       "      <td>1.000000</td>\n",
       "      <td>-1.000000</td>\n",
       "    </tr>\n",
       "    <tr>\n",
       "      <th>25%</th>\n",
       "      <td>125.000000</td>\n",
       "      <td>880.000000</td>\n",
       "      <td>1964.000000</td>\n",
       "      <td>708.662500</td>\n",
       "      <td>52.700000</td>\n",
       "      <td>2.000000</td>\n",
       "      <td>1.000000</td>\n",
       "    </tr>\n",
       "    <tr>\n",
       "      <th>50%</th>\n",
       "      <td>180.000000</td>\n",
       "      <td>1250.000000</td>\n",
       "      <td>1983.000000</td>\n",
       "      <td>1032.000000</td>\n",
       "      <td>69.500000</td>\n",
       "      <td>2.000000</td>\n",
       "      <td>2.000000</td>\n",
       "    </tr>\n",
       "    <tr>\n",
       "      <th>75%</th>\n",
       "      <td>250.000000</td>\n",
       "      <td>1690.000000</td>\n",
       "      <td>2012.000000</td>\n",
       "      <td>1415.000000</td>\n",
       "      <td>89.467500</td>\n",
       "      <td>3.000000</td>\n",
       "      <td>3.000000</td>\n",
       "    </tr>\n",
       "    <tr>\n",
       "      <th>max</th>\n",
       "      <td>1290.000000</td>\n",
       "      <td>3000.000000</td>\n",
       "      <td>2019.000000</td>\n",
       "      <td>2200.000000</td>\n",
       "      <td>200.000000</td>\n",
       "      <td>7.000000</td>\n",
       "      <td>20.000000</td>\n",
       "    </tr>\n",
       "  </tbody>\n",
       "</table>\n",
       "</div>"
      ],
      "text/plain": [
       "       serviceCharge     totalRent  yearConstructed      baseRent  \\\n",
       "count   17554.000000  17554.000000     17554.000000  17554.000000   \n",
       "mean      193.918768   1310.526878      1978.274183   1088.904103   \n",
       "std        92.877172    529.234558        36.556268    463.012890   \n",
       "min         1.000000    272.400000      1805.000000    202.400000   \n",
       "25%       125.000000    880.000000      1964.000000    708.662500   \n",
       "50%       180.000000   1250.000000      1983.000000   1032.000000   \n",
       "75%       250.000000   1690.000000      2012.000000   1415.000000   \n",
       "max      1290.000000   3000.000000      2019.000000   2200.000000   \n",
       "\n",
       "        livingSpace       noRooms         floor  \n",
       "count  17554.000000  17554.000000  17554.000000  \n",
       "mean      72.219166      2.404688      2.435918  \n",
       "std       28.900965      0.946582      2.045514  \n",
       "min       20.000000      1.000000     -1.000000  \n",
       "25%       52.700000      2.000000      1.000000  \n",
       "50%       69.500000      2.000000      2.000000  \n",
       "75%       89.467500      3.000000      3.000000  \n",
       "max      200.000000      7.000000     20.000000  "
      ]
     },
     "execution_count": 69,
     "metadata": {},
     "output_type": "execute_result"
    }
   ],
   "source": [
    "dfClean.describe()"
   ]
  },
  {
   "cell_type": "markdown",
   "metadata": {
    "id": "JxENIXEriY4X"
   },
   "source": [
    "# Zusammenfassung Data Preparation:\n",
    "\n",
    "Der vorliegende Datensatz ist relativ umfangreich. Umso wichtiger war es für uns eine sinnvolle Data-Preparation vorzunehmen, um mit möglichst relevanten Daten weiterarbeiten zu können.\n",
    "\n",
    "Wir haben hierfür untersucht welche Werte in ausreichender Anzahl vorhanden sind, um eine gewisse Aussagekraft zu bieten.\n",
    "\n",
    "Wir haben festgelegt nur die sechs größten Städte des Datensatzes zu analysieren. Zudem war es wichtig innerhalb der 49 Spalten herauszufinden welche Spalten wirklich relevant sind oder welche sogar redundant sind. \n",
    "\n",
    "\n",
    "\n",
    "\n",
    "\n"
   ]
  }
 ],
 "metadata": {
  "colab": {
   "collapsed_sections": [],
   "name": "1. immobilien-data-understanding-preparation.ipynb",
   "provenance": []
  },
  "kernelspec": {
   "display_name": "Python 3 (ipykernel)",
   "language": "python",
   "name": "python3"
  },
  "language_info": {
   "codemirror_mode": {
    "name": "ipython",
    "version": 3
   },
   "file_extension": ".py",
   "mimetype": "text/x-python",
   "name": "python",
   "nbconvert_exporter": "python",
   "pygments_lexer": "ipython3",
   "version": "3.9.7"
  }
 },
 "nbformat": 4,
 "nbformat_minor": 1
}
